{
  "nbformat": 4,
  "nbformat_minor": 0,
  "metadata": {
    "kernelspec": {
      "display_name": "Python 3",
      "language": "python",
      "name": "python3"
    },
    "language_info": {
      "codemirror_mode": {
        "name": "ipython",
        "version": 3
      },
      "file_extension": ".py",
      "mimetype": "text/x-python",
      "name": "python",
      "nbconvert_exporter": "python",
      "pygments_lexer": "ipython3",
      "version": "3.7.4"
    },
    "toc": {
      "base_numbering": 1,
      "nav_menu": {},
      "number_sections": false,
      "sideBar": true,
      "skip_h1_title": true,
      "title_cell": "Table of Contents",
      "title_sidebar": "Contents",
      "toc_cell": false,
      "toc_position": {},
      "toc_section_display": true,
      "toc_window_display": true
    },
    "colab": {
      "name": "she_code_python_crash_course.ipynb",
      "provenance": [],
      "collapsed_sections": [],
      "toc_visible": true,
      "include_colab_link": true
    }
  },
  "cells": [
    {
      "cell_type": "markdown",
      "metadata": {
        "id": "view-in-github",
        "colab_type": "text"
      },
      "source": [
        "<a href=\"https://colab.research.google.com/github/faithkane3/e_python/blob/main/she_code_python_crash_course.ipynb\" target=\"_parent\"><img src=\"https://colab.research.google.com/assets/colab-badge.svg\" alt=\"Open In Colab\"/></a>"
      ]
    },
    {
      "cell_type": "markdown",
      "metadata": {
        "id": "yhx5y6frIrmE"
      },
      "source": [
        "<img src=https://i.pinimg.com/564x/6a/45/ae/6a45ae8f4b5354ecff6143199204edee.jpg width=\"500\">"
      ]
    },
    {
      "cell_type": "markdown",
      "metadata": {
        "id": "hbwJ2syBI2KS"
      },
      "source": [
        "# Welcome to My Python Data Types Crash Course!\n",
        "\n",
        "<img src=http://cise-egypt.com/wp-content/uploads/2019/09/WELCOME-ST-IVES.jpg width=\"125\">\n",
        "\n",
        "\n",
        "This tutorial is a basic intro to:\n",
        "- the Python data types `int`, `float`, `str`, `list`, and `boolean`.\n",
        "- operators that allow us to do math and make comparisons like `+`, `-`, `==`, and `!=`.\n",
        "- some common built-in functions like `len()`, `type()`, `int()`, `str()`, and `input()`.\n",
        "\n",
        "## Getting Started with Your Own Notebook\n",
        "\n",
        "<img src=https://i.pinimg.com/564x/6f/4a/74/6f4a74413474812a02c27e723ff90594.jpg width=\"100\">\n",
        "\n",
        "- Check out the Google Colab tutorials [here](https://dataskills101.github.io/notebooks).\n",
        "- Create your own notebook to work in -> Click the 'File' tab in the upper-left part of the menu bar and click 'Save a copy in Drive' to create your own copy of my Google Colab notebook that you can edit and save.\n",
        "- As you add new cells with your own practice code to this notebook, be sure to save your work by either clicking on the 'File' tab in the menu bar and 'Save' or using `cmd+S`.\n",
        "\n",
        "### Notebook Orientation\n",
        "\n",
        "<img src=https://i.pinimg.com/564x/d5/8f/64/d58f6442180b46ded48f7fbb3a1be86b.jpg width=\"100\">\n",
        "\n",
        "- This notebook is composed of cells. Each cell will contain either text or Python code.\n",
        "- To run the Python code cells, click the \"play\" button next to the cell or click your cursor inside the cell and do \"Shift + Enter\" on your keyboard. \n",
        "- Run the code cells in order from top to bottom, because order matters in programming and code.\n",
        "\n",
        "### Troubleshooting Your Notebook\n",
        "\n",
        "<img src=https://i.pinimg.com/564x/5b/1f/a9/5b1fa906291859ee49cee43c5e1be0d6.jpg width=\"100\">\n",
        "\n",
        "- If the notebook appears to not be working correctly, then restart this environment by going up to **Runtime** then select **Restart Runtime**. \n",
        "- If the notebook is running correctly, but you need a fresh copy of this original notebook, go [here](https://colab.research.google.com/drive/1Io39BlBOYHn1y22_zRfniXhdXE9s-huU?usp=sharing) and repeat the steps above in 'Getting Started'.\n",
        "- Save frequently (`cmd+S`) and save often, so you have access to all of your exercise solutions!"
      ]
    },
    {
      "cell_type": "markdown",
      "metadata": {
        "id": "Sz1LTV77IrmF"
      },
      "source": [
        "___"
      ]
    },
    {
      "cell_type": "markdown",
      "metadata": {
        "id": "3mMTC5yYIrmG"
      },
      "source": [
        "### <font color=red>What Makes Python So Great?</font>\n",
        "\n",
        "<img src=https://i.pinimg.com/564x/c2/6d/64/c26d6441e4cc62a1dbe47f0e4f07a8cb.jpg width=\"150\">\n",
        "\n",
        "\n",
        "Put simply...\n",
        "\n",
        "- Python was designed for readability, so it's very user friendly. It is similar to reading English with influences from math.\n",
        "\n",
        "\n",
        "- Python doesn't use all the semicolons, parentheses, and brackets between your commands like many other languages use. It looks very clean because it uses white space and indentation instead!\n",
        "\n",
        "\n",
        "- Python can do more with less code than many programs. That's awesome for us!"
      ]
    },
    {
      "cell_type": "markdown",
      "metadata": {
        "id": "QGgtCdeLIrmG"
      },
      "source": [
        "___"
      ]
    },
    {
      "cell_type": "markdown",
      "metadata": {
        "id": "IHPtD-t4IrmH"
      },
      "source": [
        "### <font color=orange>So What Are We Going to do Today?</font>\n",
        "\n",
        "<img src=https://camdenkelly.com/wp-content/uploads/2019/04/question-mark.png width=\"100\">\n",
        "\n",
        "\n",
        "- In this workshop, we will learn just enough about python to write some code that prompts a user for input and based on what they enter, gives them some type of feedback. "
      ]
    },
    {
      "cell_type": "markdown",
      "metadata": {
        "id": "-9NmUIzIIrmI"
      },
      "source": [
        "___"
      ]
    },
    {
      "cell_type": "markdown",
      "metadata": {
        "id": "VVeesYPTIrmI"
      },
      "source": [
        "### <font color=green>Now What?</font>\n",
        "\n",
        "- Let's get comfortable running cells in our notebook while we learn a little about Python data types.\n",
        "\n",
        "- Future Practice: click [here](https://www.pythoncheatsheet.org/#The-Zen-of-Python) for a great Python cheatsheet that covers pretty much any basic thing you might want to know and try out in your notebook on your own time."
      ]
    },
    {
      "cell_type": "markdown",
      "metadata": {
        "id": "zxsEBWoZIrmO"
      },
      "source": [
        "___"
      ]
    },
    {
      "cell_type": "markdown",
      "metadata": {
        "id": "fpyYqXrfIrmO"
      },
      "source": [
        "#### `len()` and `type()` functions\n",
        "\n",
        "- Functions are like little machines; they are built to do something specific for us, so we don't have to keep writing the same code again and again. \n",
        "\n",
        "- For now, I'm just going to introduce two python functions because we will use them a lot in exploring python data types. \n",
        "\n",
        "- I can use the built-in function `len()` to return the number of elements in a sequence object like a string or a list that I pass as an argument. \n",
        "\n",
        "`len('Faith')`\n",
        "\n",
        "- I can use the built-in function `type()` to check my data type.\n",
        "\n",
        "`type('Faith')`\n"
      ]
    },
    {
      "cell_type": "code",
      "metadata": {
        "id": "l6zVUe94StHM"
      },
      "source": [
        "# I can find out the data type of the object I pass as an argument to the type() function. It's a string.\n",
        "\n",
        "type('Faith')"
      ],
      "execution_count": null,
      "outputs": []
    },
    {
      "cell_type": "code",
      "metadata": {
        "id": "F7O3IPgFStgq"
      },
      "source": [
        "# Replace my name with yours and try it.\n",
        "\n"
      ],
      "execution_count": null,
      "outputs": []
    },
    {
      "cell_type": "code",
      "metadata": {
        "id": "qaL2r1l2Sb5z"
      },
      "source": [
        "# I can find out the length of a string I pass to the len() function as an argument. \n",
        "\n",
        "len('Faith')"
      ],
      "execution_count": null,
      "outputs": []
    },
    {
      "cell_type": "code",
      "metadata": {
        "id": "15muyQq3Sbp-"
      },
      "source": [
        "# Replace my name with yours and try it.\n",
        "\n"
      ],
      "execution_count": null,
      "outputs": []
    },
    {
      "cell_type": "code",
      "metadata": {
        "id": "bU_1KKmNntQ4"
      },
      "source": [
        "# Assign a list of numbers to a variable named numbers. We'll learn more about lists later...\n",
        "\n",
        "numbers = [1, 2, 3, 4, 5, 6]"
      ],
      "execution_count": null,
      "outputs": []
    },
    {
      "cell_type": "code",
      "metadata": {
        "id": "N1tHDg8brvyJ"
      },
      "source": [
        "# Pass my numbers variable to the built-in length function to return the number of elements in numbers.\n",
        "\n",
        "len(numbers)"
      ],
      "execution_count": null,
      "outputs": []
    },
    {
      "cell_type": "code",
      "metadata": {
        "id": "SgYFx6WVn2L8"
      },
      "source": [
        "# I can use the built-in function type() to return the type of object I have passed as an argument.\n",
        "\n",
        "type(numbers)"
      ],
      "execution_count": null,
      "outputs": []
    },
    {
      "cell_type": "code",
      "metadata": {
        "id": "deiGJpdHscO-"
      },
      "source": [
        "# Let's try this with another list. We'll assign the list to the variable colors.\n",
        "\n",
        "colors = ['red', 'yellow', 'orange', 'purple', 'blue', 'green']"
      ],
      "execution_count": null,
      "outputs": []
    },
    {
      "cell_type": "code",
      "metadata": {
        "id": "6D9aTvyTteWV"
      },
      "source": [
        "# How many elements are contained in the list named colors?\n",
        "\n"
      ],
      "execution_count": null,
      "outputs": []
    },
    {
      "cell_type": "code",
      "metadata": {
        "id": "OctrtpFRtfIJ"
      },
      "source": [
        "# What is the data type of colors?\n",
        "\n"
      ],
      "execution_count": null,
      "outputs": []
    },
    {
      "cell_type": "markdown",
      "metadata": {
        "id": "q27tMiQbIrmP"
      },
      "source": [
        "<hr style=\"border-top: 10px groove salmon; margin-top: 1px; margin-bottom: 1px\"></hr>"
      ]
    },
    {
      "cell_type": "markdown",
      "metadata": {
        "id": "DdifF8uLIrmP"
      },
      "source": [
        "## Data Types"
      ]
    },
    {
      "cell_type": "markdown",
      "metadata": {
        "id": "nvICYVQJIrmQ"
      },
      "source": [
        "![Data Type Image](https://encrypted-tbn0.gstatic.com/images?q=tbn%3AANd9GcRmNGBEKQT8nwNYhJUPkl0Kjm-PWMmJKIw_ng&usqp=CAU)\n"
      ]
    },
    {
      "cell_type": "markdown",
      "metadata": {
        "id": "WH_M3McNIrmR"
      },
      "source": [
        "___"
      ]
    },
    {
      "cell_type": "markdown",
      "metadata": {
        "id": "9Rdxn1fTIrmR"
      },
      "source": [
        "#### **Numeric Types ->** `int`, `float`\n",
        "\n",
        "An `int` is a whole number and a `float` is a decimal number. "
      ]
    },
    {
      "cell_type": "code",
      "metadata": {
        "id": "LCkvyJt_IrmS"
      },
      "source": [
        "# What is the data type of the number 100?\n",
        "\n"
      ],
      "execution_count": null,
      "outputs": []
    },
    {
      "cell_type": "code",
      "metadata": {
        "id": "ktG9FGN8vdjr"
      },
      "source": [
        "# What is the data type of 10.5?\n",
        "\n"
      ],
      "execution_count": null,
      "outputs": []
    },
    {
      "cell_type": "markdown",
      "metadata": {
        "id": "x7CV97p5Irmn"
      },
      "source": [
        "___"
      ]
    },
    {
      "cell_type": "markdown",
      "metadata": {
        "id": "KFeg4GKwIrmn"
      },
      "source": [
        "#### **Sequence Types ->** `str`, `list`\n",
        "\n",
        "We will be examining string and list sequence type objects in this notebook."
      ]
    },
    {
      "cell_type": "markdown",
      "metadata": {
        "id": "qa14i2rqIrmo"
      },
      "source": [
        "**A Python String** can be surrounded by single or double quotation marks and is an immutable object; that means we can't change or mutate a string object. \n",
        "\n",
        "- I can have an empty string with no characters or a string can contain multiple words, numbers, symbols, and whitespace characters. "
      ]
    },
    {
      "cell_type": "code",
      "metadata": {
        "id": "aXAQxfKmIrmo"
      },
      "source": [
        "# What is the data type of 'Python rocks!'?\n",
        "\n"
      ],
      "execution_count": null,
      "outputs": []
    },
    {
      "cell_type": "code",
      "metadata": {
        "id": "SWPQxZiyyCgg"
      },
      "source": [
        "# How many characters are in 'Python rocks!'?\n",
        "\n"
      ],
      "execution_count": null,
      "outputs": []
    },
    {
      "cell_type": "code",
      "metadata": {
        "id": "cnS6QXMoIrmq"
      },
      "source": [
        "# What is the data type of 'a'?\n",
        "\n"
      ],
      "execution_count": null,
      "outputs": []
    },
    {
      "cell_type": "code",
      "metadata": {
        "id": "wkCWfvlqyI0T"
      },
      "source": [
        "# How many characters are in 'a'?\n",
        "\n"
      ],
      "execution_count": null,
      "outputs": []
    },
    {
      "cell_type": "code",
      "metadata": {
        "id": "6lKZ3turIrms"
      },
      "source": [
        "# What is the data type of ''?\n",
        "\n"
      ],
      "execution_count": null,
      "outputs": []
    },
    {
      "cell_type": "code",
      "metadata": {
        "id": "hdBXF5YqyL8V"
      },
      "source": [
        "# How many characters are in ''?\n",
        "\n"
      ],
      "execution_count": null,
      "outputs": []
    },
    {
      "cell_type": "markdown",
      "metadata": {
        "id": "O0ixIZ6CIrmu"
      },
      "source": [
        "___"
      ]
    },
    {
      "cell_type": "markdown",
      "metadata": {
        "id": "3E1Lb9XuIrmu"
      },
      "source": [
        "**A Python list** can contain elements of different data types and is a mutable object. Duplicate values are allowed. *Notice the square brackets surrounding the elements.* \n",
        "\n",
        "I can create a Python list in several different ways:- "
      ]
    },
    {
      "cell_type": "code",
      "metadata": {
        "id": "zWemp8NKIrmv"
      },
      "source": [
        "# I can create an empty list as simply as this with the list constructor...\n",
        "\n",
        "new_empty_list = []"
      ],
      "execution_count": null,
      "outputs": []
    },
    {
      "cell_type": "code",
      "metadata": {
        "id": "CMCbsS5gze0z"
      },
      "source": [
        "# Run this cell to display the new_empty_list.\n",
        "\n",
        "new_empty_list"
      ],
      "execution_count": null,
      "outputs": []
    },
    {
      "cell_type": "code",
      "metadata": {
        "id": "rsf9otRhzNhw"
      },
      "source": [
        "# Can you display the data type of new_empty_list?\n",
        "\n"
      ],
      "execution_count": null,
      "outputs": []
    },
    {
      "cell_type": "code",
      "metadata": {
        "id": "_WIyZfiIIrmw"
      },
      "source": [
        "# I can create a populated list from the very start; notice it can contain various data types.\n",
        "\n",
        "mixed_list = [1, 3.5, 'apple']"
      ],
      "execution_count": null,
      "outputs": []
    },
    {
      "cell_type": "code",
      "metadata": {
        "id": "M-bB17Zaz1Hf"
      },
      "source": [
        "# Run this cell to \n",
        "\n",
        "mixed_list"
      ],
      "execution_count": null,
      "outputs": []
    },
    {
      "cell_type": "code",
      "metadata": {
        "id": "HsZZsdMP47FG"
      },
      "source": [
        "# Can you create a list of four or five of your favorite fruits and assign it to a variable named fruits?\n",
        "\n"
      ],
      "execution_count": null,
      "outputs": []
    },
    {
      "cell_type": "code",
      "metadata": {
        "id": "kkNJb5h246uc"
      },
      "source": [
        "# Can you create a list of four or five of your favorite foods and assign it to a variable named foods?\n",
        "\n"
      ],
      "execution_count": null,
      "outputs": []
    },
    {
      "cell_type": "markdown",
      "metadata": {
        "id": "KHqURyfFIrmy"
      },
      "source": [
        "___"
      ]
    },
    {
      "cell_type": "markdown",
      "metadata": {
        "id": "HVRFGgKtIrnZ"
      },
      "source": [
        "## Operators\n",
        "\n",
        "Here are some quick reference tables for different kinds of Python operators. We'll be using these in action throughout this notebook."
      ]
    },
    {
      "cell_type": "markdown",
      "metadata": {
        "id": "7E8il98JIrma"
      },
      "source": [
        "___"
      ]
    },
    {
      "cell_type": "markdown",
      "metadata": {
        "id": "dKAxg1_nIrnZ"
      },
      "source": [
        "#### Comparison Operators\n",
        "\n",
        "![Comparison Operator Image](https://slideplayer.com/slide/6506861/22/images/3/Python+Comparison+Operators%3A.jpg)"
      ]
    },
    {
      "cell_type": "markdown",
      "metadata": {
        "id": "ayQDyjTMIrnZ"
      },
      "source": [
        "<hr style=\"border-top: 10px groove salmon; margin-top: 1px; margin-bottom: 1px\"></hr>"
      ]
    },
    {
      "cell_type": "markdown",
      "metadata": {
        "id": "BdNuJePuIrmb"
      },
      "source": [
        "#### **Boolean Type ->** `bool`\n",
        "\n",
        "- Boolean values, `True` and `False`, are not strings, so they do not go in quotation marks, and they are case sensitive. \n",
        "\n",
        "- They inform me if my expression or condition logic evaluates to `True` or `False`. \n",
        "\n",
        "- It's common to hear that a value is truthy or falsy. \n",
        "\n",
        "- You can also think of boolean values as binary integers in that `True == 1` and `False == 0`.\n",
        "\n",
        "- Let's try out some of our comparison operators below to better understand Boolean values."
      ]
    },
    {
      "cell_type": "code",
      "metadata": {
        "id": "01-I2DVsIrmb"
      },
      "source": [
        "# The lengths of these two strings are not the same; what do you think this will return?\n",
        "\n",
        "len('violet') == len('blue')"
      ],
      "execution_count": null,
      "outputs": []
    },
    {
      "cell_type": "code",
      "metadata": {
        "id": "idE019K_Irmd"
      },
      "source": [
        "# What do you think will be displayed if I run this cell?\n",
        "\n",
        "type(len('violet') == len('blue'))"
      ],
      "execution_count": null,
      "outputs": []
    },
    {
      "cell_type": "code",
      "metadata": {
        "id": "KEJHBLyz3g7g"
      },
      "source": [
        "# What do you think running this cell will display?\n",
        "\n",
        "len('violet') != len('blue')"
      ],
      "execution_count": null,
      "outputs": []
    },
    {
      "cell_type": "code",
      "metadata": {
        "id": "93OvRbEM3PAC"
      },
      "source": [
        "# What do you think running this cell will display?\n",
        "\n",
        "len('violet') > len('blue')"
      ],
      "execution_count": null,
      "outputs": []
    },
    {
      "cell_type": "code",
      "metadata": {
        "id": "M-B1Qc1x3Op6"
      },
      "source": [
        "# What do you think running this cell will display?\n",
        "\n",
        "len('violet') < len('blue')"
      ],
      "execution_count": null,
      "outputs": []
    },
    {
      "cell_type": "code",
      "metadata": {
        "id": "L_TedkDeIrmf"
      },
      "source": [
        "# What will running this cell display?\n",
        "\n",
        "False != True"
      ],
      "execution_count": null,
      "outputs": []
    },
    {
      "cell_type": "code",
      "metadata": {
        "id": "ZbTRS3uDIrmi"
      },
      "source": [
        "# What will this comparison display?\n",
        "\n",
        "True == 1"
      ],
      "execution_count": null,
      "outputs": []
    },
    {
      "cell_type": "code",
      "metadata": {
        "id": "TbO1boo_Irmk"
      },
      "source": [
        "# And what do you think THIS comparison will display?\n",
        "\n",
        "False == 0"
      ],
      "execution_count": null,
      "outputs": []
    },
    {
      "cell_type": "markdown",
      "metadata": {
        "id": "boj3WuRiIrna"
      },
      "source": [
        "___"
      ]
    },
    {
      "cell_type": "markdown",
      "metadata": {
        "id": "3hvkaK2vIrna"
      },
      "source": [
        "#### Arithmetic Operators\n",
        "\n",
        "-  We can use Python like our own personal calculator!\n",
        "\n",
        "![Arithmetic Operators Image](https://i.imgur.com/PVOe4o9.jpg)"
      ]
    },
    {
      "cell_type": "markdown",
      "metadata": {
        "id": "kX7BBj09UiyY"
      },
      "source": [
        "___"
      ]
    },
    {
      "cell_type": "code",
      "metadata": {
        "id": "bYK3NMSc3_tp"
      },
      "source": [
        "# What is 10 plus 2?\n",
        "\n"
      ],
      "execution_count": null,
      "outputs": []
    },
    {
      "cell_type": "code",
      "metadata": {
        "id": "TkjwOMRr3_mU"
      },
      "source": [
        "# What is 10 multiplied times 2?\n",
        "\n"
      ],
      "execution_count": null,
      "outputs": []
    },
    {
      "cell_type": "code",
      "metadata": {
        "id": "B4x2LfT63_gT"
      },
      "source": [
        "# What is 10 divided by 2?\n",
        "\n"
      ],
      "execution_count": null,
      "outputs": []
    },
    {
      "cell_type": "code",
      "metadata": {
        "id": "vU9JfNkhSEy4"
      },
      "source": [
        "# What is the remainder of 10 divided by 2?\n",
        "\n"
      ],
      "execution_count": null,
      "outputs": []
    },
    {
      "cell_type": "code",
      "metadata": {
        "id": "lFvx9OFe009L"
      },
      "source": [
        "# What is the remainder of 253 divided by 2?\n",
        "\n"
      ],
      "execution_count": null,
      "outputs": []
    },
    {
      "cell_type": "code",
      "metadata": {
        "id": "I_i2AwgV4ew5"
      },
      "source": [
        "# What is 125 squared?\n",
        "\n"
      ],
      "execution_count": null,
      "outputs": []
    },
    {
      "cell_type": "code",
      "metadata": {
        "id": "rtLquz9e1HRz"
      },
      "source": [
        "# What is 200 squared?\n",
        "\n"
      ],
      "execution_count": null,
      "outputs": []
    },
    {
      "cell_type": "markdown",
      "metadata": {
        "id": "ph8ymEbmIrnb"
      },
      "source": [
        "___"
      ]
    },
    {
      "cell_type": "markdown",
      "metadata": {
        "id": "e1_UStmH5sRL"
      },
      "source": [
        "## Let's Code!\n",
        "\n",
        "- Ok, we have enough knowledge about data types and operators to write some code that will take user input, do something with it, and display some specified output for our user.\n",
        "\n",
        "- To do this, we will use another built-in Python function called `input()`.\n",
        "\n",
        "- The `input()` function takes in a string as an argument that will serve as a prompt or message for your user that will then accept their input. Let's look at an example!\n",
        "\n",
        "- You can get more practice with the `input()` function [here](https://www.w3schools.com/python/ref_func_input.asp)."
      ]
    },
    {
      "cell_type": "code",
      "metadata": {
        "id": "Kd7jxVQs_UGb"
      },
      "source": [
        "# We pass a string as the argument that is displayed as a prompt for the user to answer or input something.\n",
        "\n",
        "input(\"Hey, what's your name? \")"
      ],
      "execution_count": null,
      "outputs": []
    },
    {
      "cell_type": "markdown",
      "metadata": {
        "id": "j8qo4TqC_5iM"
      },
      "source": [
        "**So, after we enter answer the prompt, our input is displayed. That's cool, but if we want to save and use the input, we have to assign the input to a variable. Let's do that below.**"
      ]
    },
    {
      "cell_type": "code",
      "metadata": {
        "id": "9YYL_PHQ-QTY"
      },
      "source": [
        "# Let's save the user input to a variable named prompt, so we can do something with it.\n",
        "\n",
        "prompt = input(\"Hey, what's your name? \")"
      ],
      "execution_count": null,
      "outputs": []
    },
    {
      "cell_type": "code",
      "metadata": {
        "id": "uRrgnIuQIZYk"
      },
      "source": [
        "# What is the data type of the user input saved to the variable prompt?\n",
        "\n",
        "type(prompt)"
      ],
      "execution_count": null,
      "outputs": []
    },
    {
      "cell_type": "code",
      "metadata": {
        "id": "dUvwE2mC-QMF"
      },
      "source": [
        "# Let's print our a greeting and personalize it with our user input that we saved to the prompt variable.\n",
        "\n",
        "print(\"Nice to meet you, \" + prompt)\n"
      ],
      "execution_count": null,
      "outputs": []
    },
    {
      "cell_type": "code",
      "metadata": {
        "id": "B0cy07mP-QFE"
      },
      "source": [
        "# Let's create another prompt for our user and capture the input to use like we did above.\n",
        "\n",
        "prompt2 = input(\"What is your favorite food? \")"
      ],
      "execution_count": null,
      "outputs": []
    },
    {
      "cell_type": "code",
      "metadata": {
        "id": "QFrR0800ImUd"
      },
      "source": [
        "# What is the data type of the user input saved to the variable prompt2?\n",
        "\n",
        "type(prompt2)"
      ],
      "execution_count": null,
      "outputs": []
    },
    {
      "cell_type": "code",
      "metadata": {
        "id": "_ArTXQAY-P79"
      },
      "source": [
        "# Let's print out a personalize message with our user input that we saved to the prompt2 variable.\n",
        "\n",
        "print(\"Oh, \" + prompt2 + \" is delicious!\")"
      ],
      "execution_count": null,
      "outputs": []
    },
    {
      "cell_type": "code",
      "metadata": {
        "id": "-6_NBrGkBnIJ"
      },
      "source": [
        "# Can you think of a question you would like someone to answer and save it to a variable? Name your variable whatever you like.\n",
        "\n",
        "your_variable = input(\"What is your question? \")"
      ],
      "execution_count": null,
      "outputs": []
    },
    {
      "cell_type": "code",
      "metadata": {
        "id": "fDZhiruvBnCS"
      },
      "source": [
        "# Can you print out a personalized message with your user input that you saved to your_variable?\n",
        "\n",
        "print()"
      ],
      "execution_count": null,
      "outputs": []
    },
    {
      "cell_type": "code",
      "metadata": {
        "id": "wxnCyPDqHwgp"
      },
      "source": [
        "# Let's prompt our user for their age, and then tell them how old they will be in 20 years.\n",
        "\n",
        "age_prompt = input(\"How old are you? \")"
      ],
      "execution_count": null,
      "outputs": []
    },
    {
      "cell_type": "code",
      "metadata": {
        "id": "_U4dnNqjIQGG"
      },
      "source": [
        "# What is the data type of the input saved to the variable age_prompt?\n",
        "\n",
        "type(age_prompt)"
      ],
      "execution_count": null,
      "outputs": []
    },
    {
      "cell_type": "code",
      "metadata": {
        "id": "o4Dpq99aJ5-m"
      },
      "source": [
        "# What happens if we try to do math with a variable that has a string data type?\n",
        "\n",
        "print(\"In 20 years, you will be \" + (age_prompt + 20) + \" years old.\")"
      ],
      "execution_count": null,
      "outputs": []
    },
    {
      "cell_type": "markdown",
      "metadata": {
        "id": "4afNi23pI9zG"
      },
      "source": [
        "**So, even if the user inputs a numeric value, the `input()` function converts it to a string data type.**\n",
        "\n",
        "- We cannot add a string to an integer. (`age_prompt + 20`). We get an error.\n",
        "\n",
        "- If we want to do math with the input, we will have to use a function to convert the string save to the age_prompt variable back to an integer.\n",
        "\n",
        "- We can use the `int()` function to convert our string value back to a numeric value.\n",
        "\n",
        "- You can get more practice with the `int()` function [here](https://www.w3schools.com/python/ref_func_int.asp)."
      ]
    },
    {
      "cell_type": "code",
      "metadata": {
        "id": "D-B1Ov1LIuYu"
      },
      "source": [
        "# We have to convert the age_prompt string to an interger data type.\n",
        "\n",
        "age_prompt = int(age_prompt)"
      ],
      "execution_count": null,
      "outputs": []
    },
    {
      "cell_type": "code",
      "metadata": {
        "id": "is_8mqoQLXio"
      },
      "source": [
        "# Let's check the data type of age_prompt now. Ok, now we can do math with this variable.\n",
        "\n",
        "type(age_prompt)"
      ],
      "execution_count": null,
      "outputs": []
    },
    {
      "cell_type": "code",
      "metadata": {
        "id": "YnEW3spzHwb3"
      },
      "source": [
        "# Will it work now? This allows us to add the age_prompt input to the number 20, but now we still can't add numeric and string values.\n",
        "\n",
        "print(\"In 20 years, you will be \" + (age_prompt + 20) + \" years old.\")"
      ],
      "execution_count": null,
      "outputs": []
    },
    {
      "cell_type": "code",
      "metadata": {
        "id": "4IVroWBpHwVS"
      },
      "source": [
        "# There is a `str()` function just like the `int()` function, so we can convert our number to a string.\n",
        "\n",
        "print(\"In 20 years, you will be \" + str((age_prompt + 20)) + \" years old.\")"
      ],
      "execution_count": null,
      "outputs": []
    },
    {
      "cell_type": "code",
      "metadata": {
        "id": "Q5KoXx0ULoNL"
      },
      "source": [
        "# Let's try another where we have to convert our input from a string to an integer to do math with it.\n",
        "\n",
        "math_prompt = input(\"Give me any number, and I will return it to you squared: \")"
      ],
      "execution_count": null,
      "outputs": []
    },
    {
      "cell_type": "code",
      "metadata": {
        "id": "4HEBIpQ4LoBh"
      },
      "source": [
        "# Let's check the data type of the variable math_prompt with our user input to square.\n",
        "\n",
        "type(math_prompt)"
      ],
      "execution_count": null,
      "outputs": []
    },
    {
      "cell_type": "code",
      "metadata": {
        "id": "32QFKYdcLn74"
      },
      "source": [
        "# Let's convert our string variable back to an integer variable, so we can do math with it.\n",
        "\n",
        "math_prompt = int(math_prompt)"
      ],
      "execution_count": null,
      "outputs": []
    },
    {
      "cell_type": "code",
      "metadata": {
        "id": "a6tBBoTHLn08"
      },
      "source": [
        "# Let's check the data type now.\n",
        "\n",
        "type(math_prompt)"
      ],
      "execution_count": null,
      "outputs": []
    },
    {
      "cell_type": "code",
      "metadata": {
        "id": "aVcFp1kXHwKA"
      },
      "source": [
        "print(math_prompt ** 2)"
      ],
      "execution_count": null,
      "outputs": []
    },
    {
      "cell_type": "code",
      "metadata": {
        "id": "3nFpbe0_MzUb"
      },
      "source": [
        "# Let's do that whole process at once, so the user gets their answer immediately.\n",
        "\n",
        "math_prompt = int(input(\"Give me any number, and I will return it to you squared: \"))\n",
        "print(math_prompt ** 2)"
      ],
      "execution_count": null,
      "outputs": []
    },
    {
      "cell_type": "code",
      "metadata": {
        "id": "qQXWbgucMzSC"
      },
      "source": [
        "# Let's do another where we divide their input in half.\n",
        "\n",
        "math_prompt = int(input(\"Give me any number, and I will return it to you divied by 2: \"))\n",
        "print(math_prompt / 2)"
      ],
      "execution_count": null,
      "outputs": []
    },
    {
      "cell_type": "code",
      "metadata": {
        "id": "3R3Vw2tOMzOb"
      },
      "source": [
        "# Let's do the age one again in one cell.\n",
        "\n",
        "age_prompt = int(input(\"How old are you? \"))\n",
        "print(\"In 20 years, you will be \" + str((age_prompt + 20)) + \" years old.\")"
      ],
      "execution_count": null,
      "outputs": []
    },
    {
      "cell_type": "markdown",
      "metadata": {
        "id": "p-ESk7XbOsH9"
      },
      "source": [
        "**I hope you enjoyed the Python workshop, and please have fun with the linked resources throughout the notebook.**"
      ]
    },
    {
      "cell_type": "markdown",
      "metadata": {
        "id": "blWAIqdqIro4"
      },
      "source": [
        "<hr style=\"border-top: 10px groove salmon; margin-top: 1px; margin-bottom: 1px\"></hr>"
      ]
    }
  ]
}