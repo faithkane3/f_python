{
  "nbformat": 4,
  "nbformat_minor": 0,
  "metadata": {
    "kernelspec": {
      "display_name": "Python 3",
      "language": "python",
      "name": "python3"
    },
    "language_info": {
      "codemirror_mode": {
        "name": "ipython",
        "version": 3
      },
      "file_extension": ".py",
      "mimetype": "text/x-python",
      "name": "python",
      "nbconvert_exporter": "python",
      "pygments_lexer": "ipython3",
      "version": "3.7.4"
    },
    "toc": {
      "base_numbering": 1,
      "nav_menu": {},
      "number_sections": false,
      "sideBar": true,
      "skip_h1_title": true,
      "title_cell": "Table of Contents",
      "title_sidebar": "Contents",
      "toc_cell": false,
      "toc_position": {},
      "toc_section_display": true,
      "toc_window_display": true
    },
    "colab": {
      "name": "python_crash_course.ipynb",
      "provenance": [],
      "collapsed_sections": [],
      "toc_visible": true,
      "include_colab_link": true
    }
  },
  "cells": [
    {
      "cell_type": "markdown",
      "metadata": {
        "id": "view-in-github",
        "colab_type": "text"
      },
      "source": [
        "<a href=\"https://colab.research.google.com/github/faithkane3/e_python/blob/main/python_crash_course.ipynb\" target=\"_parent\"><img src=\"https://colab.research.google.com/assets/colab-badge.svg\" alt=\"Open In Colab\"/></a>"
      ]
    },
    {
      "cell_type": "markdown",
      "metadata": {
        "id": "yhx5y6frIrmE"
      },
      "source": [
        "![python image](data:image/jpeg;base64,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)"
      ]
    },
    {
      "cell_type": "markdown",
      "metadata": {
        "id": "hbwJ2syBI2KS"
      },
      "source": [
        "# Welcome to My Python Data Types Crash Course!\n",
        "\n",
        "This tutorial is a basic intro to:\n",
        "- the Python data types.\n",
        "- operators.\n",
        "- common data type attributes and methods.\n",
        "\n",
        "## Getting Started\n",
        "1. Check out the Google Colab tutorials [here](https://dataskills101.github.io/notebooks).\n",
        "2. Create your own notebook to work in -> Click the 'File' tab in the upper-left part of the menu bar and click 'Save a copy in Drive' to create your own copy of my Google Colab notebook that you can edit and save.\n",
        "3. As you add new cells with your own practice code to this notebook, be sure to save your work by either clicking on the 'File' tab in the menu bar and 'Save' or using `cmd+S`.\n",
        "\n",
        "### Orientation:\n",
        "- This notebook is composed of cells. Each cell will contain either text or Python code.\n",
        "- To run the Python code cells, click the \"play\" button next to the cell or click your cursor inside the cell and do \"Shift + Enter\" on your keyboard. \n",
        "- Run the code cells in order from top to bottom, because order matters in programming and code.\n",
        "\n",
        "### Troubleshooting\n",
        "- If the notebook appears to not be working correctly, then restart this environment by going up to **Runtime** then select **Restart Runtime**. \n",
        "- If the notebook is running correctly, but you need a fresh copy of this original notebook, go [here](https://colab.research.google.com/drive/1Io39BlBOYHn1y22_zRfniXhdXE9s-huU?usp=sharing) and repeat the steps above in 'Getting Started'.\n",
        "- Save frequently (`cmd+S`) and save often, so you have access to all of your exercise solutions!"
      ]
    },
    {
      "cell_type": "markdown",
      "metadata": {
        "id": "Sz1LTV77IrmF"
      },
      "source": [
        "___"
      ]
    },
    {
      "cell_type": "markdown",
      "metadata": {
        "id": "3mMTC5yYIrmG"
      },
      "source": [
        "### <font color=red>What Makes Python So Great?</font>\n",
        "\n",
        "According to [w3schools.com](https://www.w3schools.com/python/python_intro.asp)\n",
        "\n",
        "- Python was designed for readability, and has some similarities to the English language with influence from mathematics.\n",
        "\n",
        "\n",
        "- Python uses new lines to complete a command, as opposed to other programming languages which often use semicolons or parentheses.\n",
        "\n",
        "\n",
        "- Python relies on indentation, using whitespace, to define scope; such as the scope of loops, functions and classes. Other programming languages often use curly-brackets for this purpose.\n",
        "\n",
        "\n",
        "- Python has syntax that allows developers to write programs with fewer lines than some other programming languages.\n",
        "\n",
        "\n",
        "- Python runs on an interpreter system, meaning that code can be executed as soon as it is written. This means that prototyping can be very quick."
      ]
    },
    {
      "cell_type": "markdown",
      "metadata": {
        "id": "QGgtCdeLIrmG"
      },
      "source": [
        "___"
      ]
    },
    {
      "cell_type": "markdown",
      "metadata": {
        "id": "IHPtD-t4IrmH"
      },
      "source": [
        "### <font color=orange>So What?</font>\n",
        "\n",
        "- Python can be treated in a procedural way, an object-oriented way or a functional way.\n",
        "\n",
        "\n",
        "- Python can connect to database systems. It can also read and modify files.\n",
        "\n",
        "\n",
        "- Python can be used to handle big data and perform complex mathematics.\n",
        "\n",
        "\n",
        "Python also has libraries that are invaluable in the field of Data Science such as:\n",
        "\n",
        "![python libraries](https://miro.medium.com/max/603/0*RSHaCzm8VQ-DFQOv)"
      ]
    },
    {
      "cell_type": "markdown",
      "metadata": {
        "id": "-9NmUIzIIrmI"
      },
      "source": [
        "___"
      ]
    },
    {
      "cell_type": "markdown",
      "metadata": {
        "id": "VVeesYPTIrmI"
      },
      "source": [
        "### <font color=green>Now What?</font>\n",
        "\n",
        "Click [here](https://www.pythoncheatsheet.org/#The-Zen-of-Python) for a great Python cheatsheet that covers pretty much any basic thing you might want to know.\n",
        "\n",
        "You might want to check and see what version of Python you are running by typing the following in your terminal:"
      ]
    },
    {
      "cell_type": "markdown",
      "metadata": {
        "id": "hLM8NofIIrmK"
      },
      "source": [
        "<p style=\"background:black\">\n",
        "<code style=\"background:black;color:white\">python --version\n",
        "</code>\n",
        "</p>"
      ]
    },
    {
      "cell_type": "markdown",
      "metadata": {
        "id": "HV4h6X8tIrmK"
      },
      "source": [
        "You can also run the following right in your Jupyter Notebook:"
      ]
    },
    {
      "cell_type": "code",
      "metadata": {
        "id": "-6DF2bwsIrmL",
        "outputId": "7d8aac5c-8e29-4202-89c5-b98645cb21a4"
      },
      "source": [
        "!python --version"
      ],
      "execution_count": null,
      "outputs": [
        {
          "output_type": "stream",
          "text": [
            "Python 3.7.4\r\n"
          ],
          "name": "stdout"
        }
      ]
    },
    {
      "cell_type": "markdown",
      "metadata": {
        "id": "zxsEBWoZIrmO"
      },
      "source": [
        "___"
      ]
    },
    {
      "cell_type": "markdown",
      "metadata": {
        "id": "fpyYqXrfIrmO"
      },
      "source": [
        "#### `len()` and `type()` functions\n",
        "```python\n",
        "len(sequence_object)\n",
        "\n",
        "type(object)\n",
        "```\n",
        "I want to introduce two python functions nice and early because I will use them a lot! I can use the built-in function `len()` to return the number of elements in a sequence like a string or a list. I can use the built-in function `type()` to check my data type."
      ]
    },
    {
      "cell_type": "markdown",
      "metadata": {
        "id": "q27tMiQbIrmP"
      },
      "source": [
        "<hr style=\"border-top: 10px groove salmon; margin-top: 1px; margin-bottom: 1px\"></hr>"
      ]
    },
    {
      "cell_type": "markdown",
      "metadata": {
        "id": "DdifF8uLIrmP"
      },
      "source": [
        "## Data Types"
      ]
    },
    {
      "cell_type": "markdown",
      "metadata": {
        "id": "8Xif76Z6IrmQ"
      },
      "source": [
        "<hr style=\"border-top: 10px groove salmon; margin-top: 1px; margin-bottom: 1px\"></hr>"
      ]
    },
    {
      "cell_type": "markdown",
      "metadata": {
        "id": "nvICYVQJIrmQ"
      },
      "source": [
        "![Data Type Image](https://encrypted-tbn0.gstatic.com/images?q=tbn%3AANd9GcRmNGBEKQT8nwNYhJUPkl0Kjm-PWMmJKIw_ng&usqp=CAU)"
      ]
    },
    {
      "cell_type": "markdown",
      "metadata": {
        "id": "WH_M3McNIrmR"
      },
      "source": [
        "___"
      ]
    },
    {
      "cell_type": "markdown",
      "metadata": {
        "id": "9Rdxn1fTIrmR"
      },
      "source": [
        "#### **Numeric Types ->** `int`, `float`\n",
        "\n",
        "An `int` is a whole number and a `float` is a decimal number. *Jumping ahead a bit, you will find out that missing values are also considered `float` types.*"
      ]
    },
    {
      "cell_type": "code",
      "metadata": {
        "id": "LCkvyJt_IrmS",
        "outputId": "41a5f67b-1cac-4f03-d5b7-d511c6949172"
      },
      "source": [
        "type(7)"
      ],
      "execution_count": null,
      "outputs": [
        {
          "output_type": "execute_result",
          "data": {
            "text/plain": [
              "int"
            ]
          },
          "metadata": {
            "tags": []
          },
          "execution_count": 2
        }
      ]
    },
    {
      "cell_type": "code",
      "metadata": {
        "id": "_sfdNjBKIrmV",
        "outputId": "dac0d1cd-e1f5-4cac-bf8b-0f8056228a9d"
      },
      "source": [
        "type(7.5)"
      ],
      "execution_count": null,
      "outputs": [
        {
          "output_type": "execute_result",
          "data": {
            "text/plain": [
              "float"
            ]
          },
          "metadata": {
            "tags": []
          },
          "execution_count": 3
        }
      ]
    },
    {
      "cell_type": "code",
      "metadata": {
        "id": "ZzMiGJAXIrmX",
        "outputId": "ac01c440-be33-41b9-e31e-38cb3f36cd93"
      },
      "source": [
        "import numpy as np\n",
        "\n",
        "type(np.NaN)"
      ],
      "execution_count": null,
      "outputs": [
        {
          "output_type": "execute_result",
          "data": {
            "text/plain": [
              "float"
            ]
          },
          "metadata": {
            "tags": []
          },
          "execution_count": 4
        }
      ]
    },
    {
      "cell_type": "markdown",
      "metadata": {
        "id": "7E8il98JIrma"
      },
      "source": [
        "___"
      ]
    },
    {
      "cell_type": "markdown",
      "metadata": {
        "id": "BdNuJePuIrmb"
      },
      "source": [
        "#### **Boolean Type ->** `bool`\n",
        "\n",
        "Boolean values, `True` and `False`, are not strings, so they do not go in quotation marks, and they are case sensitive. Rather they inform me if my expression or condition logic evaluates to `True` or `False`. It's common to hear that a value is truthy or falsy. You can also think of boolean values as binary integers in that `True == 1` and `False == 0`."
      ]
    },
    {
      "cell_type": "code",
      "metadata": {
        "id": "01-I2DVsIrmb",
        "outputId": "1204dc34-d8de-402e-bf7a-44e5c0a1f056"
      },
      "source": [
        "# The comparison returns `False`, a bool value because the lengths are not the same.\n",
        "\n",
        "len('violet') == len('blue')"
      ],
      "execution_count": null,
      "outputs": [
        {
          "output_type": "execute_result",
          "data": {
            "text/plain": [
              "False"
            ]
          },
          "metadata": {
            "tags": []
          },
          "execution_count": 5
        }
      ]
    },
    {
      "cell_type": "code",
      "metadata": {
        "id": "idE019K_Irmd",
        "outputId": "9d4d3db3-288b-4b5d-dab2-5ffa373b443f"
      },
      "source": [
        "type(len('violet') == len('blue'))"
      ],
      "execution_count": null,
      "outputs": [
        {
          "output_type": "execute_result",
          "data": {
            "text/plain": [
              "bool"
            ]
          },
          "metadata": {
            "tags": []
          },
          "execution_count": 6
        }
      ]
    },
    {
      "cell_type": "code",
      "metadata": {
        "id": "L_TedkDeIrmf",
        "outputId": "1567a576-9a66-4f3a-cff2-74e0b58d7b94"
      },
      "source": [
        "False != True"
      ],
      "execution_count": null,
      "outputs": [
        {
          "output_type": "execute_result",
          "data": {
            "text/plain": [
              "True"
            ]
          },
          "metadata": {
            "tags": []
          },
          "execution_count": 7
        }
      ]
    },
    {
      "cell_type": "code",
      "metadata": {
        "id": "ZbTRS3uDIrmi",
        "outputId": "2b813a47-609f-40ab-d394-1b6337178da5"
      },
      "source": [
        "True == 1"
      ],
      "execution_count": null,
      "outputs": [
        {
          "output_type": "execute_result",
          "data": {
            "text/plain": [
              "True"
            ]
          },
          "metadata": {
            "tags": []
          },
          "execution_count": 8
        }
      ]
    },
    {
      "cell_type": "code",
      "metadata": {
        "id": "TbO1boo_Irmk",
        "outputId": "3d5914ad-5ad1-4ec2-f6e8-91c9a3ca1040"
      },
      "source": [
        "False == 0"
      ],
      "execution_count": null,
      "outputs": [
        {
          "output_type": "execute_result",
          "data": {
            "text/plain": [
              "True"
            ]
          },
          "metadata": {
            "tags": []
          },
          "execution_count": 9
        }
      ]
    },
    {
      "cell_type": "markdown",
      "metadata": {
        "id": "x7CV97p5Irmn"
      },
      "source": [
        "___"
      ]
    },
    {
      "cell_type": "markdown",
      "metadata": {
        "id": "KFeg4GKwIrmn"
      },
      "source": [
        "#### **Sequence Types ->** `str`, `list`, `tuple`, `range`"
      ]
    },
    {
      "cell_type": "markdown",
      "metadata": {
        "id": "qa14i2rqIrmo"
      },
      "source": [
        "**A Python String** can be surrounded by single or double quotation marks. I can have an empty string with no characters or a string can contain multiple words, numbers, symbols, and whitespace characters. Click [here](#strings) to see what you can do with strings."
      ]
    },
    {
      "cell_type": "code",
      "metadata": {
        "id": "aXAQxfKmIrmo",
        "outputId": "7a075ffe-8ed1-446d-bda5-131f86ef7393"
      },
      "source": [
        "type('Python rocks!')"
      ],
      "execution_count": null,
      "outputs": [
        {
          "output_type": "execute_result",
          "data": {
            "text/plain": [
              "str"
            ]
          },
          "metadata": {
            "tags": []
          },
          "execution_count": 10
        }
      ]
    },
    {
      "cell_type": "code",
      "metadata": {
        "id": "cnS6QXMoIrmq",
        "outputId": "d7ffec0c-d03a-4ad1-e2dd-9a00ce084acd"
      },
      "source": [
        "type(\"a\")"
      ],
      "execution_count": null,
      "outputs": [
        {
          "output_type": "execute_result",
          "data": {
            "text/plain": [
              "str"
            ]
          },
          "metadata": {
            "tags": []
          },
          "execution_count": 11
        }
      ]
    },
    {
      "cell_type": "code",
      "metadata": {
        "id": "6lKZ3turIrms",
        "outputId": "e2be319f-c3b0-4aab-99d4-ff5fa70796d7"
      },
      "source": [
        "type('')"
      ],
      "execution_count": null,
      "outputs": [
        {
          "output_type": "execute_result",
          "data": {
            "text/plain": [
              "str"
            ]
          },
          "metadata": {
            "tags": []
          },
          "execution_count": 12
        }
      ]
    },
    {
      "cell_type": "markdown",
      "metadata": {
        "id": "O0ixIZ6CIrmu"
      },
      "source": [
        "___"
      ]
    },
    {
      "cell_type": "markdown",
      "metadata": {
        "id": "3E1Lb9XuIrmu"
      },
      "source": [
        "**A Python list** can contain elements of different data types and is a mutable object. Duplicate values are allowed. *Notice the square brackets surrounding the elements.* Click [here](#lists) to see what you can do with lists.\n",
        "\n",
        "I can create a Python list in several different ways:"
      ]
    },
    {
      "cell_type": "code",
      "metadata": {
        "id": "zWemp8NKIrmv",
        "outputId": "d4cbe4e6-5b2d-47c5-e4d2-4d628e7d1f48"
      },
      "source": [
        "# I can create an empty list as simply as this with the list constructor...\n",
        "\n",
        "new_empty_list = []\n",
        "\n",
        "print(type(new_empty_list))\n",
        "new_empty_list"
      ],
      "execution_count": null,
      "outputs": [
        {
          "output_type": "stream",
          "text": [
            "<class 'list'>\n"
          ],
          "name": "stdout"
        },
        {
          "output_type": "execute_result",
          "data": {
            "text/plain": [
              "[]"
            ]
          },
          "metadata": {
            "tags": []
          },
          "execution_count": 13
        }
      ]
    },
    {
      "cell_type": "code",
      "metadata": {
        "id": "_WIyZfiIIrmw",
        "outputId": "32c609f2-3670-454c-ef03-f368d4eea1be"
      },
      "source": [
        "# I can create a populated list from the very start; notice it can contain various data types.\n",
        "\n",
        "mixed_list = [1, 3.5, 'apple']\n",
        "\n",
        "print(type(mixed_list))\n",
        "mixed_list"
      ],
      "execution_count": null,
      "outputs": [
        {
          "output_type": "stream",
          "text": [
            "<class 'list'>\n"
          ],
          "name": "stdout"
        },
        {
          "output_type": "execute_result",
          "data": {
            "text/plain": [
              "[1, 3.5, 'apple']"
            ]
          },
          "metadata": {
            "tags": []
          },
          "execution_count": 14
        }
      ]
    },
    {
      "cell_type": "markdown",
      "metadata": {
        "id": "KHqURyfFIrmy"
      },
      "source": [
        "___"
      ]
    },
    {
      "cell_type": "markdown",
      "metadata": {
        "id": "ieJmV6-AIrmy"
      },
      "source": [
        "**A Python tuple** is an ordered, immutable object. Duplicate values are allowed. *Notice the parentheses surrounding the pair of elements.* "
      ]
    },
    {
      "cell_type": "code",
      "metadata": {
        "id": "V3amAPDHIrmz",
        "outputId": "d9fce0af-75b7-4ef8-f8a3-b11c5fd8c298"
      },
      "source": [
        "type((1, 3))"
      ],
      "execution_count": null,
      "outputs": [
        {
          "output_type": "execute_result",
          "data": {
            "text/plain": [
              "tuple"
            ]
          },
          "metadata": {
            "tags": []
          },
          "execution_count": 15
        }
      ]
    },
    {
      "cell_type": "code",
      "metadata": {
        "id": "sFEcHEd-Irm0",
        "outputId": "dbfcf9b6-58eb-4bf2-c3f8-a7aafe5c3492"
      },
      "source": [
        "type(('red', 'blue', 'green'))"
      ],
      "execution_count": null,
      "outputs": [
        {
          "output_type": "execute_result",
          "data": {
            "text/plain": [
              "tuple"
            ]
          },
          "metadata": {
            "tags": []
          },
          "execution_count": 16
        }
      ]
    },
    {
      "cell_type": "markdown",
      "metadata": {
        "id": "2ti4NRZ6Irm3"
      },
      "source": [
        "___"
      ]
    },
    {
      "cell_type": "markdown",
      "metadata": {
        "id": "DQCRBmCQIrm3"
      },
      "source": [
        "**A Python `range()`** constructor creates a range object.\n",
        "```python\n",
        "range(start, stop, step)\n",
        "```\n",
        "![Range Image](https://pynative.com/wp-content/uploads/2018/10/python_range.png)"
      ]
    },
    {
      "cell_type": "markdown",
      "metadata": {
        "id": "6pX7X7nXIrm3"
      },
      "source": [
        "If I pass only one integer as my argument, the start (inclusive) is 0 and stop (exclusive) 1 less than my argument. *The step defaults to 1 if not specified.*"
      ]
    },
    {
      "cell_type": "code",
      "metadata": {
        "id": "FyY1rw_cIrm3",
        "outputId": "24c3baef-4e0f-4f67-e731-54ad9e6b5a02"
      },
      "source": [
        "range(6)"
      ],
      "execution_count": null,
      "outputs": [
        {
          "output_type": "execute_result",
          "data": {
            "text/plain": [
              "range(0, 6)"
            ]
          },
          "metadata": {
            "tags": []
          },
          "execution_count": 17
        }
      ]
    },
    {
      "cell_type": "markdown",
      "metadata": {
        "id": "GkqaDOgOIrm5"
      },
      "source": [
        "I can loop through my range object like this...\n",
        "(more on loops later)"
      ]
    },
    {
      "cell_type": "code",
      "metadata": {
        "id": "bRRfBxQkIrm6",
        "outputId": "3ade8272-4d3e-4cfd-f378-2d710ce6b881"
      },
      "source": [
        "for i in range(6):\n",
        "    print(i)"
      ],
      "execution_count": null,
      "outputs": [
        {
          "output_type": "stream",
          "text": [
            "0\n",
            "1\n",
            "2\n",
            "3\n",
            "4\n",
            "5\n"
          ],
          "name": "stdout"
        }
      ]
    },
    {
      "cell_type": "markdown",
      "metadata": {
        "id": "da9sZHCNIrm8"
      },
      "source": [
        "I can also wrap my range object in the built-in `list()` constructor to return a list of the integers specified by my range object."
      ]
    },
    {
      "cell_type": "code",
      "metadata": {
        "id": "W6zytRYvIrm8",
        "outputId": "558ce23e-a5c9-4692-9921-501463dece39"
      },
      "source": [
        "list(range(6))"
      ],
      "execution_count": null,
      "outputs": [
        {
          "output_type": "execute_result",
          "data": {
            "text/plain": [
              "[0, 1, 2, 3, 4, 5]"
            ]
          },
          "metadata": {
            "tags": []
          },
          "execution_count": 19
        }
      ]
    },
    {
      "cell_type": "markdown",
      "metadata": {
        "id": "Y_gOhG8pIrm-"
      },
      "source": [
        "Here, I specify that the range starts at 0 and stops at 10 (exclusive) moving in steps of 2 instead of 1."
      ]
    },
    {
      "cell_type": "code",
      "metadata": {
        "id": "UI_ftOqUIrm_",
        "outputId": "45baecca-422d-4dc7-b5d8-eb2a5e69376c"
      },
      "source": [
        "r = range(0,10,2)\n",
        "r"
      ],
      "execution_count": null,
      "outputs": [
        {
          "output_type": "execute_result",
          "data": {
            "text/plain": [
              "range(0, 10, 2)"
            ]
          },
          "metadata": {
            "tags": []
          },
          "execution_count": 20
        }
      ]
    },
    {
      "cell_type": "code",
      "metadata": {
        "id": "0Fp5xNdXIrnB",
        "outputId": "7f9940d5-3ac0-4de7-d0bd-7082b2c9649e"
      },
      "source": [
        "evens_list = list(r)\n",
        "evens_list"
      ],
      "execution_count": null,
      "outputs": [
        {
          "output_type": "execute_result",
          "data": {
            "text/plain": [
              "[0, 2, 4, 6, 8]"
            ]
          },
          "metadata": {
            "tags": []
          },
          "execution_count": 21
        }
      ]
    },
    {
      "cell_type": "markdown",
      "metadata": {
        "id": "u8-yYTtjIrnC"
      },
      "source": [
        "Now I can pass this list to other functions like this..."
      ]
    },
    {
      "cell_type": "code",
      "metadata": {
        "id": "5oklz54NIrnD",
        "outputId": "40470a7e-2b22-48fe-e227-165de7645fc3"
      },
      "source": [
        "# I can sum the integers in my list.\n",
        "\n",
        "sum(evens_list)"
      ],
      "execution_count": null,
      "outputs": [
        {
          "output_type": "execute_result",
          "data": {
            "text/plain": [
              "20"
            ]
          },
          "metadata": {
            "tags": []
          },
          "execution_count": 22
        }
      ]
    },
    {
      "cell_type": "code",
      "metadata": {
        "id": "f6vd056bIrnE",
        "outputId": "f08082b0-9a58-4188-e488-ac3015d02d0e"
      },
      "source": [
        "# I can return the number of elements in my list.\n",
        "\n",
        "len(evens_list)"
      ],
      "execution_count": null,
      "outputs": [
        {
          "output_type": "execute_result",
          "data": {
            "text/plain": [
              "5"
            ]
          },
          "metadata": {
            "tags": []
          },
          "execution_count": 23
        }
      ]
    },
    {
      "cell_type": "markdown",
      "metadata": {
        "id": "a5nrw1dVIrnG"
      },
      "source": [
        "___"
      ]
    },
    {
      "cell_type": "markdown",
      "metadata": {
        "id": "iA3AP8USIrnG"
      },
      "source": [
        "#### **Mapping Type ->** `dict`"
      ]
    },
    {
      "cell_type": "markdown",
      "metadata": {
        "id": "LHwmugBuIrnH"
      },
      "source": [
        "**A Python dictionary** object is made up key:value pairs separated by a comma. It is a mutable object that does not allow duplicates. *Notice the curly brackets surrounding the key:value pairs.*\n",
        "\n",
        "I can create a Python dictionary in several different ways:"
      ]
    },
    {
      "cell_type": "code",
      "metadata": {
        "id": "cNkJ6kPjIrnH",
        "outputId": "8b31d69a-a2e3-4b08-ccf5-06e8f32116da"
      },
      "source": [
        "# I can create an empty dictionary as simply as this with the dictionary constructor...\n",
        "\n",
        "new_empty_dictionary = {}\n",
        "\n",
        "print(type(new_empty_dictionary))\n",
        "new_empty_dictionary"
      ],
      "execution_count": null,
      "outputs": [
        {
          "output_type": "stream",
          "text": [
            "<class 'dict'>\n"
          ],
          "name": "stdout"
        },
        {
          "output_type": "execute_result",
          "data": {
            "text/plain": [
              "{}"
            ]
          },
          "metadata": {
            "tags": []
          },
          "execution_count": 24
        }
      ]
    },
    {
      "cell_type": "code",
      "metadata": {
        "id": "zaiEhfHEIrnK",
        "outputId": "d752ad81-3295-4edb-f326-f85464d8cf24"
      },
      "source": [
        "# I can create a populated dictionary from the very start; notice it can contain key/value pairs.\n",
        "\n",
        "day_dict = {'weekday': 'Thursday', 'day': 20, 'month': 'October', 'year': 2020}\n",
        "\n",
        "print(type(day_dict))\n",
        "day_dict"
      ],
      "execution_count": null,
      "outputs": [
        {
          "output_type": "stream",
          "text": [
            "<class 'dict'>\n"
          ],
          "name": "stdout"
        },
        {
          "output_type": "execute_result",
          "data": {
            "text/plain": [
              "{'weekday': 'Thursday', 'day': 20, 'month': 'October', 'year': 2020}"
            ]
          },
          "metadata": {
            "tags": []
          },
          "execution_count": 25
        }
      ]
    },
    {
      "cell_type": "markdown",
      "metadata": {
        "id": "cteduZ5XIrnM"
      },
      "source": [
        "Dictionary indexing is a little different from other sequences like lists and tuples; I access values in a dictionary by passing the key into square brackets instead of an integer for the index location. I'll go into dictionary functionality more [here](#dictionaries)."
      ]
    },
    {
      "cell_type": "code",
      "metadata": {
        "id": "9wrLo6uPIrnM",
        "outputId": "a02345a9-1e53-4166-f0dc-e78e1fc0899e"
      },
      "source": [
        "day_dict['weekday']"
      ],
      "execution_count": null,
      "outputs": [
        {
          "output_type": "execute_result",
          "data": {
            "text/plain": [
              "'Thursday'"
            ]
          },
          "metadata": {
            "tags": []
          },
          "execution_count": 26
        }
      ]
    },
    {
      "cell_type": "code",
      "metadata": {
        "id": "2TLPBszWIrnO",
        "outputId": "9a21a4f4-7042-4d52-faa3-0293fef2d279"
      },
      "source": [
        "day_dict['day']"
      ],
      "execution_count": null,
      "outputs": [
        {
          "output_type": "execute_result",
          "data": {
            "text/plain": [
              "20"
            ]
          },
          "metadata": {
            "tags": []
          },
          "execution_count": 27
        }
      ]
    },
    {
      "cell_type": "markdown",
      "metadata": {
        "id": "kLpEa57CIrnP"
      },
      "source": [
        "___"
      ]
    },
    {
      "cell_type": "markdown",
      "metadata": {
        "id": "FoYoWz1ZIrnQ"
      },
      "source": [
        "#### **Set Type ->** `set`\n",
        "\n",
        "**A Python set** object is an unordered and unindexed collection that is immutable and contains only unique values. *Notice the curly brackets.* I've opted to focus on list and dictionary methods in this basic notebook, but [here](https://www.w3schools.com/python/python_ref_set.asp) is a link to set methods for future use. They are quite useful when looking for differences or similarities between elements in different sequences."
      ]
    },
    {
      "cell_type": "code",
      "metadata": {
        "id": "w3EFxvNcIrnQ",
        "outputId": "7ffc653c-1608-44c8-effc-fb9ba3694c76"
      },
      "source": [
        "# Here I use curly brackets to create a set.\n",
        "\n",
        "a_set = {1, 1, 2, 5}\n",
        "type(a_set)"
      ],
      "execution_count": null,
      "outputs": [
        {
          "output_type": "execute_result",
          "data": {
            "text/plain": [
              "set"
            ]
          },
          "metadata": {
            "tags": []
          },
          "execution_count": 28
        }
      ]
    },
    {
      "cell_type": "markdown",
      "metadata": {
        "id": "V1ynYQCaIrnT"
      },
      "source": [
        "When I use the built-in `len()` function, I see that only the unique elements in the set are counted. *This can come in very handy when checking for unique elements in a list.*"
      ]
    },
    {
      "cell_type": "code",
      "metadata": {
        "id": "IgaADKY9IrnT",
        "outputId": "542a2207-d6f1-4867-dcd0-73ef6b8a8e6a"
      },
      "source": [
        "# This tells me there are 3 unique elements in a_set.\n",
        "\n",
        "len(a_set)"
      ],
      "execution_count": null,
      "outputs": [
        {
          "output_type": "execute_result",
          "data": {
            "text/plain": [
              "3"
            ]
          },
          "metadata": {
            "tags": []
          },
          "execution_count": 29
        }
      ]
    },
    {
      "cell_type": "code",
      "metadata": {
        "id": "QKJIgBibIrnV",
        "outputId": "7d8ddd06-74f0-4e73-fd1b-d8e903f32018"
      },
      "source": [
        "# Here I use square brackets to create a list containing the same elements as in my set.\n",
        "\n",
        "a_list = [1, 1, 2, 5]\n",
        "len(a_list)"
      ],
      "execution_count": null,
      "outputs": [
        {
          "output_type": "execute_result",
          "data": {
            "text/plain": [
              "4"
            ]
          },
          "metadata": {
            "tags": []
          },
          "execution_count": 30
        }
      ]
    },
    {
      "cell_type": "code",
      "metadata": {
        "id": "_mcdHM9vIrnX",
        "outputId": "282c3efc-4bf5-4808-df3c-002078e6cc14"
      },
      "source": [
        "# This list does not contain all unique elements.\n",
        "\n",
        "len([1, 1, 2, 5]) == len({1, 1, 2, 5})"
      ],
      "execution_count": null,
      "outputs": [
        {
          "output_type": "execute_result",
          "data": {
            "text/plain": [
              "False"
            ]
          },
          "metadata": {
            "tags": []
          },
          "execution_count": 31
        }
      ]
    },
    {
      "cell_type": "markdown",
      "metadata": {
        "id": "EKvxmVbuIrnY"
      },
      "source": [
        "<hr style=\"border-top: 10px groove salmon; margin-top: 1px; margin-bottom: 1px\"></hr>"
      ]
    },
    {
      "cell_type": "markdown",
      "metadata": {
        "id": "HVRFGgKtIrnZ"
      },
      "source": [
        "## Operators"
      ]
    },
    {
      "cell_type": "markdown",
      "metadata": {
        "id": "ayQDyjTMIrnZ"
      },
      "source": [
        "<hr style=\"border-top: 10px groove salmon; margin-top: 1px; margin-bottom: 1px\"></hr>"
      ]
    },
    {
      "cell_type": "markdown",
      "metadata": {
        "id": "dKAxg1_nIrnZ"
      },
      "source": [
        "This is just a quick reference for Python operators. I'll be using these in action throughout this and in all future notebooks.\n",
        "\n",
        "#### Comparison Operators\n",
        "\n",
        "![Comparison Operator Image](https://slideplayer.com/slide/6506861/22/images/3/Python+Comparison+Operators%3A.jpg)"
      ]
    },
    {
      "cell_type": "markdown",
      "metadata": {
        "id": "th6RRofcIrna"
      },
      "source": [
        "___"
      ]
    },
    {
      "cell_type": "markdown",
      "metadata": {
        "id": "3hvkaK2vIrna"
      },
      "source": [
        "#### Arithmetic Operators\n",
        "\n",
        "![Arithmetic Operators Image](https://i.imgur.com/PVOe4o9.jpg)"
      ]
    },
    {
      "cell_type": "markdown",
      "metadata": {
        "id": "boj3WuRiIrna"
      },
      "source": [
        "___"
      ]
    },
    {
      "cell_type": "markdown",
      "metadata": {
        "id": "k0LY-c6sIrnb"
      },
      "source": [
        "#### Logic Operators\n",
        "\n",
        "![Logic Operator Image](https://slide-finder.com/luke/storage/www.tnstate.edu-=-faculty-=-fyao-=-COMP3050-=-Py-Slides-2/jpg/res-06.jpg)"
      ]
    },
    {
      "cell_type": "markdown",
      "metadata": {
        "id": "ph8ymEbmIrnb"
      },
      "source": [
        "___"
      ]
    },
    {
      "cell_type": "markdown",
      "metadata": {
        "id": "bZFw3EdaIrnc"
      },
      "source": [
        "#### Bitwise Operators\n",
        "\n",
        "![Bitwise Operators Image](https://www.researchgate.net/profile/Rama_M_A/publication/276202732/figure/fig3/AS:667718365749268@1536207872972/Bitwise-Operators-i-Bitwise-operators-cannot-be-applied-to-float-or-double-They-can.png)"
      ]
    },
    {
      "cell_type": "markdown",
      "metadata": {
        "id": "B9aB88NGIrnc"
      },
      "source": [
        "<hr style=\"border-top: 10px groove salmon; margin-top: 1px; margin-bottom: 1px\"></hr>"
      ]
    },
    {
      "cell_type": "markdown",
      "metadata": {
        "id": "oC7JWZT0Irnd"
      },
      "source": [
        "## String Operations"
      ]
    },
    {
      "cell_type": "markdown",
      "metadata": {
        "id": "JhZSY4NsIrnd"
      },
      "source": [
        "<hr style=\"border-top: 10px groove salmon; margin-top: 1px; margin-bottom: 1px\"></hr>"
      ]
    },
    {
      "cell_type": "markdown",
      "metadata": {
        "id": "z-3JlRA_Irne"
      },
      "source": [
        "<a id='strings'></a>"
      ]
    },
    {
      "cell_type": "markdown",
      "metadata": {
        "id": "XzxMuVfRIrne"
      },
      "source": [
        "### String Methods\n",
        "\n",
        "There are a ton of useful built-in methods that can be accessed using dot notation with Python string variables. To check out some of these methods, let's create a variable that holds a string as an example. To check out way more, check the doc [here](https://www.tutorialspoint.com/python/python_strings.htm)."
      ]
    },
    {
      "cell_type": "code",
      "metadata": {
        "id": "_6YKVPsBIrne"
      },
      "source": [
        "a_string = 'I am a string!'"
      ],
      "execution_count": null,
      "outputs": []
    },
    {
      "cell_type": "code",
      "metadata": {
        "id": "1TXwBVdRIrnh",
        "outputId": "2fb9bfc1-d851-48fd-8b8a-25a7798f6a28"
      },
      "source": [
        "type(a_string)"
      ],
      "execution_count": null,
      "outputs": [
        {
          "output_type": "execute_result",
          "data": {
            "text/plain": [
              "str"
            ]
          },
          "metadata": {
            "tags": []
          },
          "execution_count": 33
        }
      ]
    },
    {
      "cell_type": "markdown",
      "metadata": {
        "id": "4dWA7JbPIrni"
      },
      "source": [
        "___"
      ]
    },
    {
      "cell_type": "markdown",
      "metadata": {
        "id": "47PkCGqwIrnj"
      },
      "source": [
        "#### `.lower()`, `.upper()`, `.capitalize()`, `.title()`, `swapcase()`\n",
        "\n",
        "These string methods transform the characters in my string to either lowercase or uppercase in various ways. Check out the examples below:"
      ]
    },
    {
      "cell_type": "code",
      "metadata": {
        "id": "rC4Zcgi9Irnj",
        "outputId": "c1a117c7-6e52-4d97-baf8-6347a0c092ce"
      },
      "source": [
        "a_string.lower()"
      ],
      "execution_count": null,
      "outputs": [
        {
          "output_type": "execute_result",
          "data": {
            "text/plain": [
              "'i am a string!'"
            ]
          },
          "metadata": {
            "tags": []
          },
          "execution_count": 34
        }
      ]
    },
    {
      "cell_type": "code",
      "metadata": {
        "id": "sLDJOgPSIrnl",
        "outputId": "c01cc843-1499-4cd6-ebf9-ec97b84f940d"
      },
      "source": [
        "a_string.upper()"
      ],
      "execution_count": null,
      "outputs": [
        {
          "output_type": "execute_result",
          "data": {
            "text/plain": [
              "'I AM A STRING!'"
            ]
          },
          "metadata": {
            "tags": []
          },
          "execution_count": 35
        }
      ]
    },
    {
      "cell_type": "code",
      "metadata": {
        "id": "34EnL9SFIrnm",
        "outputId": "408362ad-c469-4c11-8c2c-463adf7b46a9"
      },
      "source": [
        "a_string.capitalize()"
      ],
      "execution_count": null,
      "outputs": [
        {
          "output_type": "execute_result",
          "data": {
            "text/plain": [
              "'I am a string!'"
            ]
          },
          "metadata": {
            "tags": []
          },
          "execution_count": 36
        }
      ]
    },
    {
      "cell_type": "code",
      "metadata": {
        "id": "b3GME5naIrno",
        "outputId": "727518e6-4601-4bb4-92fe-79b2f8d2dba7"
      },
      "source": [
        "a_string.title()"
      ],
      "execution_count": null,
      "outputs": [
        {
          "output_type": "execute_result",
          "data": {
            "text/plain": [
              "'I Am A String!'"
            ]
          },
          "metadata": {
            "tags": []
          },
          "execution_count": 37
        }
      ]
    },
    {
      "cell_type": "code",
      "metadata": {
        "id": "GuxDrhpeIrnp",
        "outputId": "a7b1af71-f09f-4eae-8da5-b87d5f8f81ae"
      },
      "source": [
        "a_string.swapcase()"
      ],
      "execution_count": null,
      "outputs": [
        {
          "output_type": "execute_result",
          "data": {
            "text/plain": [
              "'i AM A STRING!'"
            ]
          },
          "metadata": {
            "tags": []
          },
          "execution_count": 38
        }
      ]
    },
    {
      "cell_type": "code",
      "metadata": {
        "id": "dMJo6JJxIrnr",
        "outputId": "cc725e3f-4177-491e-f27a-c564d5c7f94f"
      },
      "source": [
        "# Using a string method doesn't mutate my original string; it returns a copy I can use or assign.\n",
        "\n",
        "a_string"
      ],
      "execution_count": null,
      "outputs": [
        {
          "output_type": "execute_result",
          "data": {
            "text/plain": [
              "'I am a string!'"
            ]
          },
          "metadata": {
            "tags": []
          },
          "execution_count": 39
        }
      ]
    },
    {
      "cell_type": "markdown",
      "metadata": {
        "id": "cxc_mZA9Irnt"
      },
      "source": [
        "___"
      ]
    },
    {
      "cell_type": "markdown",
      "metadata": {
        "id": "RyUwJi9MIrnt"
      },
      "source": [
        "#### `.islower()`, `.isupper()`\n",
        "\n",
        "I can use these methods to return a bool value if all of the characters in my string are lowercase or uppercase."
      ]
    },
    {
      "cell_type": "code",
      "metadata": {
        "id": "St2HkWN8Irnt",
        "outputId": "c4a237b7-8231-4622-e6b0-e56470820a05"
      },
      "source": [
        "# I can assign my string in all caps to a variable for further use.\n",
        "\n",
        "caps = a_string.upper()\n",
        "caps"
      ],
      "execution_count": null,
      "outputs": [
        {
          "output_type": "execute_result",
          "data": {
            "text/plain": [
              "'I AM A STRING!'"
            ]
          },
          "metadata": {
            "tags": []
          },
          "execution_count": 40
        }
      ]
    },
    {
      "cell_type": "code",
      "metadata": {
        "id": "sLzmoBAYIrnv",
        "outputId": "48be4191-cc26-49b2-a093-a5a333b3f3f4"
      },
      "source": [
        "# I can check my string for all upper- or all lowercase letters.\n",
        "\n",
        "caps.isupper()"
      ],
      "execution_count": null,
      "outputs": [
        {
          "output_type": "execute_result",
          "data": {
            "text/plain": [
              "True"
            ]
          },
          "metadata": {
            "tags": []
          },
          "execution_count": 41
        }
      ]
    },
    {
      "cell_type": "code",
      "metadata": {
        "id": "m6EZca5NIrnx",
        "outputId": "efb9e6a8-479e-4b9a-8722-63ae24fd9111"
      },
      "source": [
        "caps.islower()"
      ],
      "execution_count": null,
      "outputs": [
        {
          "output_type": "execute_result",
          "data": {
            "text/plain": [
              "False"
            ]
          },
          "metadata": {
            "tags": []
          },
          "execution_count": 42
        }
      ]
    },
    {
      "cell_type": "markdown",
      "metadata": {
        "id": "hB3Vz2EBIrnz"
      },
      "source": [
        "___"
      ]
    },
    {
      "cell_type": "markdown",
      "metadata": {
        "id": "dHrGNQYIIrnz"
      },
      "source": [
        "#### `.strip()`, `.replace()`\n",
        "\n",
        "These string methods are useful to perform a little string cleanup by removing any whitespace from the beginning or end of my string and replacing a string with another string.\n",
        "```python\n",
        "# default for strip is to take out whitespace; `[chars]` is optional.\n",
        "\n",
        "str.strip([chars])\n",
        "str.lstrip([chars])\n",
        "str.rstrip([chars])\n",
        "\n",
        "# default replaces all occurences of the old with the new; this can be adjusted.\n",
        "\n",
        "string.replace(old, new, [count=-1])\n",
        "```"
      ]
    },
    {
      "cell_type": "code",
      "metadata": {
        "id": "PkGbHMNlIrnz"
      },
      "source": [
        "a_string = ' I am a string. I am a messy string! '"
      ],
      "execution_count": null,
      "outputs": []
    },
    {
      "cell_type": "code",
      "metadata": {
        "id": "_pvnvl-_Irn1",
        "outputId": "9197b109-bb31-4ea8-aec0-b052169863a7"
      },
      "source": [
        "# Strip whitespace from beginning and end of string.\n",
        "\n",
        "a_string.strip()"
      ],
      "execution_count": null,
      "outputs": [
        {
          "output_type": "execute_result",
          "data": {
            "text/plain": [
              "'I am a string. I am a messy string!'"
            ]
          },
          "metadata": {
            "tags": []
          },
          "execution_count": 44
        }
      ]
    },
    {
      "cell_type": "code",
      "metadata": {
        "id": "QpMSgLR5Irn4",
        "outputId": "f8d31d46-dc27-4d64-cecf-e2f43529e16d"
      },
      "source": [
        "# Strip whitespace from beginning of string.\n",
        "\n",
        "a_string.lstrip()"
      ],
      "execution_count": null,
      "outputs": [
        {
          "output_type": "execute_result",
          "data": {
            "text/plain": [
              "'I am a string. I am a messy string! '"
            ]
          },
          "metadata": {
            "tags": []
          },
          "execution_count": 45
        }
      ]
    },
    {
      "cell_type": "code",
      "metadata": {
        "id": "DDMr9t-HIrn5",
        "outputId": "d9ea216d-9fcc-4397-f40d-76b82a27974f"
      },
      "source": [
        "# Strip whitespace from end of string.\n",
        "\n",
        "a_string.rstrip()"
      ],
      "execution_count": null,
      "outputs": [
        {
          "output_type": "execute_result",
          "data": {
            "text/plain": [
              "' I am a string. I am a messy string!'"
            ]
          },
          "metadata": {
            "tags": []
          },
          "execution_count": 46
        }
      ]
    },
    {
      "cell_type": "code",
      "metadata": {
        "id": "6iaWzc1EIrn7"
      },
      "source": [
        "b_string = '!?I have junk at the front I don\\'t need.'"
      ],
      "execution_count": null,
      "outputs": []
    },
    {
      "cell_type": "code",
      "metadata": {
        "id": "WPzq1AyOIrn8",
        "outputId": "b66bec27-c8a6-4c27-c140-96c9fff363f6"
      },
      "source": [
        "# The default is whitespace, but I can strip out other characters as well.\n",
        "\n",
        "b_string.strip('!?')"
      ],
      "execution_count": null,
      "outputs": [
        {
          "output_type": "execute_result",
          "data": {
            "text/plain": [
              "\"I have junk at the front I don't need.\""
            ]
          },
          "metadata": {
            "tags": []
          },
          "execution_count": 48
        }
      ]
    },
    {
      "cell_type": "markdown",
      "metadata": {
        "id": "p8N4gWkfIrn9"
      },
      "source": [
        "___"
      ]
    },
    {
      "cell_type": "code",
      "metadata": {
        "id": "3BvkFmqRIrn-",
        "outputId": "0d6fd761-642b-4879-e334-9ce05e52cc9c"
      },
      "source": [
        "a_string.replace('string', 'something')"
      ],
      "execution_count": null,
      "outputs": [
        {
          "output_type": "execute_result",
          "data": {
            "text/plain": [
              "' I am a something. I am a messy something! '"
            ]
          },
          "metadata": {
            "tags": []
          },
          "execution_count": 49
        }
      ]
    },
    {
      "cell_type": "code",
      "metadata": {
        "id": "G7rbvRm4Irn_",
        "outputId": "1e573669-94d1-4a2e-a7ac-a57ee672a206"
      },
      "source": [
        "# I can pass in a number of occurences to replace if I don't want to replace them all.\n",
        "\n",
        "a_string.replace('string', 'something', 1)"
      ],
      "execution_count": null,
      "outputs": [
        {
          "output_type": "execute_result",
          "data": {
            "text/plain": [
              "' I am a something. I am a messy string! '"
            ]
          },
          "metadata": {
            "tags": []
          },
          "execution_count": 50
        }
      ]
    },
    {
      "cell_type": "code",
      "metadata": {
        "id": "OfGmFWxwIroB",
        "outputId": "b3c01628-c059-4cef-9481-cc5e71bc8a4f"
      },
      "source": [
        "# I can chain these methods together, too! I can replace and strip at the same time.\n",
        "\n",
        "a_string.replace('string', 'something', 1).strip()"
      ],
      "execution_count": null,
      "outputs": [
        {
          "output_type": "execute_result",
          "data": {
            "text/plain": [
              "'I am a something. I am a messy string!'"
            ]
          },
          "metadata": {
            "tags": []
          },
          "execution_count": 51
        }
      ]
    },
    {
      "cell_type": "markdown",
      "metadata": {
        "id": "qKW0r5iFIroC"
      },
      "source": [
        "___"
      ]
    },
    {
      "cell_type": "markdown",
      "metadata": {
        "id": "PmIjtvxOIroD"
      },
      "source": [
        "#### `.isalnum()`, `.isalpha()`, `.isdigit()`, `.isspace()`\n",
        "\n",
        "These handy string methods return a bool value telling me if all of the characters in the string are either alphanumeric, alphabetic, digits,  or tabs/spaces/newlines respectively."
      ]
    },
    {
      "cell_type": "code",
      "metadata": {
        "id": "2yX0qxUWIroD"
      },
      "source": [
        "# Define variables for use below\n",
        "\n",
        "alpha = 'alphabetic'\n",
        "alphanumeric = 'unit9'\n",
        "digits = '210'"
      ],
      "execution_count": null,
      "outputs": []
    },
    {
      "cell_type": "code",
      "metadata": {
        "id": "YcpN9ZAOIroF",
        "outputId": "30c097e3-00e6-4014-ce8a-510e7434f41b"
      },
      "source": [
        "alpha.isalpha()"
      ],
      "execution_count": null,
      "outputs": [
        {
          "output_type": "execute_result",
          "data": {
            "text/plain": [
              "True"
            ]
          },
          "metadata": {
            "tags": []
          },
          "execution_count": 53
        }
      ]
    },
    {
      "cell_type": "code",
      "metadata": {
        "id": "ot-bCMc5IroG",
        "outputId": "66562052-3a90-435b-954f-023c7a227f59"
      },
      "source": [
        "alphanumeric.isalnum()"
      ],
      "execution_count": null,
      "outputs": [
        {
          "output_type": "execute_result",
          "data": {
            "text/plain": [
              "True"
            ]
          },
          "metadata": {
            "tags": []
          },
          "execution_count": 54
        }
      ]
    },
    {
      "cell_type": "code",
      "metadata": {
        "id": "cDvauacZIroH",
        "outputId": "2a6cd13f-233a-4342-e231-e434a193bef9"
      },
      "source": [
        "digits.isdigit()"
      ],
      "execution_count": null,
      "outputs": [
        {
          "output_type": "execute_result",
          "data": {
            "text/plain": [
              "True"
            ]
          },
          "metadata": {
            "tags": []
          },
          "execution_count": 55
        }
      ]
    },
    {
      "cell_type": "code",
      "metadata": {
        "id": "GcNSmpuXIroI",
        "outputId": "ceb3fe04-29df-4f01-cffd-ebba9e719459"
      },
      "source": [
        "digits.isspace()"
      ],
      "execution_count": null,
      "outputs": [
        {
          "output_type": "execute_result",
          "data": {
            "text/plain": [
              "False"
            ]
          },
          "metadata": {
            "tags": []
          },
          "execution_count": 56
        }
      ]
    },
    {
      "cell_type": "markdown",
      "metadata": {
        "id": "_mhQ6PHSIroJ"
      },
      "source": [
        "___"
      ]
    },
    {
      "cell_type": "markdown",
      "metadata": {
        "id": "E4IvqugKIroJ"
      },
      "source": [
        "#### `.split()`, `.partition()`, `.join()`\n",
        "\n",
        "I can split my string using a specific separator like a space or a hyphen and return the elements in a list (`.split()`) or tuple (`.partition()`), and I can join on a specific separator, too.\n",
        "\n",
        "```python\n",
        "# I can split a string into a list; the default separator is a whitespace if none is passed. I can pass an integer along with a separator to control the number of splits, but this is also optional.\n",
        "\n",
        "str.split(separator, maxsplit=int)\n",
        "\n",
        "# I can split a string into a tuple containing three elements, 1-elements before value, 2-value, 3-elements after value.\n",
        "\n",
        "str.partition(value)\n",
        "\n",
        "# I can join all of the items in a sequence_of_strings (an iterable) and join them on the string_separator I specify.\n",
        "\n",
        "'str_separator'.join(sequence_of_strings)\n",
        "```"
      ]
    },
    {
      "cell_type": "code",
      "metadata": {
        "id": "6LvybtFiIroK",
        "outputId": "5e779052-1b77-4ad5-d097-4537c6ac6a86"
      },
      "source": [
        "# Now I have a list of the elements in my string and can access them using indexing.\n",
        "\n",
        "a_list = a_string.split()\n",
        "a_list"
      ],
      "execution_count": null,
      "outputs": [
        {
          "output_type": "execute_result",
          "data": {
            "text/plain": [
              "['I', 'am', 'a', 'string.', 'I', 'am', 'a', 'messy', 'string!']"
            ]
          },
          "metadata": {
            "tags": []
          },
          "execution_count": 57
        }
      ]
    },
    {
      "cell_type": "code",
      "metadata": {
        "id": "z02bZ7dJIroL",
        "outputId": "f183a524-4bff-4f97-aca2-61f07b2f8ddf"
      },
      "source": [
        "a_list[-1]"
      ],
      "execution_count": null,
      "outputs": [
        {
          "output_type": "execute_result",
          "data": {
            "text/plain": [
              "'string!'"
            ]
          },
          "metadata": {
            "tags": []
          },
          "execution_count": 58
        }
      ]
    },
    {
      "cell_type": "code",
      "metadata": {
        "id": "q9H35dTlIroM",
        "outputId": "a1464a9c-be8a-477c-eed1-dfa4a82c4997"
      },
      "source": [
        "a_list[0]"
      ],
      "execution_count": null,
      "outputs": [
        {
          "output_type": "execute_result",
          "data": {
            "text/plain": [
              "'I'"
            ]
          },
          "metadata": {
            "tags": []
          },
          "execution_count": 59
        }
      ]
    },
    {
      "cell_type": "code",
      "metadata": {
        "id": "8WGYULsYIroO",
        "outputId": "7a5d295d-cd03-4106-fb3a-93d9c0f9ca04"
      },
      "source": [
        "# I can use partition to break my string on the separator I pass as an argument and index into the tuple.\n",
        "\n",
        "a_tuple = 'Codeup rocks!'.partition(' ')\n",
        "a_tuple"
      ],
      "execution_count": null,
      "outputs": [
        {
          "output_type": "execute_result",
          "data": {
            "text/plain": [
              "('Codeup', ' ', 'rocks!')"
            ]
          },
          "metadata": {
            "tags": []
          },
          "execution_count": 60
        }
      ]
    },
    {
      "cell_type": "code",
      "metadata": {
        "id": "IFhC6yonIroP",
        "outputId": "04b7c5a5-a7c7-4f03-8d04-998117a19b85"
      },
      "source": [
        "# Now I can use indexing to access strings in my tuple.\n",
        "\n",
        "a_tuple[0]"
      ],
      "execution_count": null,
      "outputs": [
        {
          "output_type": "execute_result",
          "data": {
            "text/plain": [
              "'Codeup'"
            ]
          },
          "metadata": {
            "tags": []
          },
          "execution_count": 61
        }
      ]
    },
    {
      "cell_type": "code",
      "metadata": {
        "id": "Pu3wyY6dIroR",
        "outputId": "3a50987e-567a-4a01-807c-884eb7dff76c"
      },
      "source": [
        "# I can join the elements of my list on a whitespace or some other separator, as well.\n",
        "\n",
        "' '.join(a_list)"
      ],
      "execution_count": null,
      "outputs": [
        {
          "output_type": "execute_result",
          "data": {
            "text/plain": [
              "'I am a string. I am a messy string!'"
            ]
          },
          "metadata": {
            "tags": []
          },
          "execution_count": 62
        }
      ]
    },
    {
      "cell_type": "code",
      "metadata": {
        "id": "9Zje1s60IroS"
      },
      "source": [
        "phone_string = '210-299-2080'"
      ],
      "execution_count": null,
      "outputs": []
    },
    {
      "cell_type": "code",
      "metadata": {
        "id": "mXnT-JxCIroU",
        "outputId": "e4425362-ff82-4c14-ff94-c316f111a79c"
      },
      "source": [
        "# I can split on a specific separator and even control how many times I split.\n",
        "\n",
        "phone_string.split('-', maxsplit=1)"
      ],
      "execution_count": null,
      "outputs": [
        {
          "output_type": "execute_result",
          "data": {
            "text/plain": [
              "['210', '299-2080']"
            ]
          },
          "metadata": {
            "tags": []
          },
          "execution_count": 64
        }
      ]
    },
    {
      "cell_type": "markdown",
      "metadata": {
        "id": "ftmQHH09IroV"
      },
      "source": [
        "___"
      ]
    },
    {
      "cell_type": "markdown",
      "metadata": {
        "id": "Z4GAdtuYIroV"
      },
      "source": [
        "#### `.startswith()`, `.endswith()`\n",
        "\n",
        "I can return a bool value indicating if a string starts or ends with a substring I pass as an argument.\n",
        "```python\n",
        "# I have to pass a value, but specifying the index position at which to start and end my search is optional.\n",
        "\n",
        "str.startswith(value, start, end)\n",
        "\n",
        "# The same applies here.\n",
        "\n",
        "str.endswith(value, start, end)\n",
        "```"
      ]
    },
    {
      "cell_type": "code",
      "metadata": {
        "id": "mHc6eXknIroV"
      },
      "source": [
        "e_string = 'automobile'"
      ],
      "execution_count": null,
      "outputs": []
    },
    {
      "cell_type": "code",
      "metadata": {
        "id": "yYaU_9CBIroW",
        "outputId": "59375ab6-3e17-4ddd-b158-8dedfb2c4778"
      },
      "source": [
        "e_string.startswith('auto')"
      ],
      "execution_count": null,
      "outputs": [
        {
          "output_type": "execute_result",
          "data": {
            "text/plain": [
              "True"
            ]
          },
          "metadata": {
            "tags": []
          },
          "execution_count": 66
        }
      ]
    },
    {
      "cell_type": "markdown",
      "metadata": {
        "id": "ebrAC42cIroX"
      },
      "source": [
        "___"
      ]
    },
    {
      "cell_type": "markdown",
      "metadata": {
        "id": "skJDPMcfIroY"
      },
      "source": [
        "#### `.count()`\n",
        "\n",
        "I can count the number of occurences of a particular value in a string. The starting and ending index values are optional parameters that allow me more precision if I need it.\n",
        "```python\n",
        "# I have to pass a value, but specifying the index position at which to start and end my search is optional.\n",
        "\n",
        "str.count(value, start, end), where :\n",
        "```"
      ]
    },
    {
      "cell_type": "code",
      "metadata": {
        "id": "FWKy6uY2IroY",
        "outputId": "46c2e5af-798b-4ff9-bfd1-6842ec5b0911"
      },
      "source": [
        "# There are two o characters in my e_string.\n",
        "\n",
        "e_string.count('o')"
      ],
      "execution_count": null,
      "outputs": [
        {
          "output_type": "execute_result",
          "data": {
            "text/plain": [
              "2"
            ]
          },
          "metadata": {
            "tags": []
          },
          "execution_count": 67
        }
      ]
    },
    {
      "cell_type": "markdown",
      "metadata": {
        "id": "mctXXFxXIroZ"
      },
      "source": [
        "<hr style=\"border-top: 10px groove salmon; margin-top: 1px; margin-bottom: 1px\"></hr>"
      ]
    },
    {
      "cell_type": "markdown",
      "metadata": {
        "id": "64QKF-hJIroZ"
      },
      "source": [
        "### String Formatting"
      ]
    },
    {
      "cell_type": "markdown",
      "metadata": {
        "id": "uM9PXS9AIroa"
      },
      "source": [
        "**The `print()` function** will display your value to your screen. I can format my output in several ways, a few of which I will demonstrate below."
      ]
    },
    {
      "cell_type": "markdown",
      "metadata": {
        "id": "0K1dS-1ZIroa"
      },
      "source": [
        "**f-strings** allow me to print a string AND varibales by passing an f-string to my print function with variables inside of curly braces. [Here](https://www.datacamp.com/community/tutorials/f-string-formatting-in-python?utm_source=adwords_ppc&utm_campaignid=1565261270&utm_adgroupid=67750485268&utm_device=c&utm_keyword=&utm_matchtype=b&utm_network=g&utm_adpostion=&utm_creative=332661264371&utm_targetid=aud-438305022466:dsa-429603003980&utm_loc_interest_ms=&utm_loc_physical_ms=9028050&gclid=Cj0KCQjw2or8BRCNARIsAC_ppybcYIe9u50WwHu-kARvNZXXRNDctdHpELvjRtNYgLL2g2ThEq3nORUaAo9jEALw_wcB) is more on f-strings if interested."
      ]
    },
    {
      "cell_type": "code",
      "metadata": {
        "id": "Qq18XjqcIroa",
        "outputId": "6848aca4-f4da-4dbf-8b8d-459a95ef8b3a"
      },
      "source": [
        "a_num = '20'\n",
        "\n",
        "print(f'The number {a_num} contains {len(a_num)} digits!')"
      ],
      "execution_count": null,
      "outputs": [
        {
          "output_type": "stream",
          "text": [
            "The number 20 contains 2 digits!\n"
          ],
          "name": "stdout"
        }
      ]
    },
    {
      "cell_type": "code",
      "metadata": {
        "id": "Pk7tmtLBIroc",
        "outputId": "a5e7c2a2-f32a-4d39-f82b-f3c8f9a6ddeb"
      },
      "source": [
        "name = 'Codeup'\n",
        "company = 'Career Accelerator'\n",
        "\n",
        "print(f'{name} is a {company}.')"
      ],
      "execution_count": null,
      "outputs": [
        {
          "output_type": "stream",
          "text": [
            "Codeup is a Career Accelerator.\n"
          ],
          "name": "stdout"
        }
      ]
    },
    {
      "cell_type": "markdown",
      "metadata": {
        "id": "wvteohhHIrod"
      },
      "source": [
        "___"
      ]
    },
    {
      "cell_type": "markdown",
      "metadata": {
        "id": "nGqEEv-cIrod"
      },
      "source": [
        "**The `.format()` method** is another way to combine strings and variables in a print statement."
      ]
    },
    {
      "cell_type": "code",
      "metadata": {
        "id": "h9mrgYwpIrod",
        "outputId": "9cf5eb79-fbb0-423e-e704-1de09990951b"
      },
      "source": [
        "cnt = 3\n",
        "price = 1.99\n",
        "total = cnt * price\n",
        "\n",
        "print('I bought {} coffees at {} each for a total of {}.'.format(cnt, price, total))"
      ],
      "execution_count": null,
      "outputs": [
        {
          "output_type": "stream",
          "text": [
            "I bought 3 coffees at 1.99 each for a total of 5.97.\n"
          ],
          "name": "stdout"
        }
      ]
    },
    {
      "cell_type": "markdown",
      "metadata": {
        "id": "9xMI0CUDIrof"
      },
      "source": [
        "___"
      ]
    },
    {
      "cell_type": "markdown",
      "metadata": {
        "id": "K5bXLDBCIrof"
      },
      "source": [
        "**The string modulo operator `%`** offers a lot more string formatting options, but to keep this basic notebook basic, I'll just add a [link](https://pyformat.info/) to a very detailed look at options for when you hit a case that requires more than the above two options."
      ]
    },
    {
      "cell_type": "markdown",
      "metadata": {
        "id": "H6R3rkBjIrof"
      },
      "source": [
        "___"
      ]
    },
    {
      "cell_type": "markdown",
      "metadata": {
        "id": "2O4ArDl6Irog"
      },
      "source": [
        "**String Concatenation** allows me to combine strings using the `+` operator. *When a built-in operator or function displays different behaviors based on the type of object it is used with, this is called* **Operator Overloading.**"
      ]
    },
    {
      "cell_type": "code",
      "metadata": {
        "id": "U1O_6s85Irog",
        "outputId": "67a589f0-96fc-4ed3-b471-ee196f117316"
      },
      "source": [
        "greeting = 'Hi'\n",
        "name = 'there!'\n",
        "\n",
        "print(greeting + ' ' + name)"
      ],
      "execution_count": null,
      "outputs": [
        {
          "output_type": "stream",
          "text": [
            "Hi there!\n"
          ],
          "name": "stdout"
        }
      ]
    },
    {
      "cell_type": "markdown",
      "metadata": {
        "id": "O6qouoSeIroh"
      },
      "source": [
        "**String Multiplication** allows me to create a new string with the original string repeated n times by using the `*` operator. *This is another example of * **Operator Overloading.**"
      ]
    },
    {
      "cell_type": "code",
      "metadata": {
        "id": "qIngjXvsIroh",
        "outputId": "ce6869d7-6c10-4005-e428-a2f6e4b2deca"
      },
      "source": [
        "s = 'happy '\n",
        "s * 5"
      ],
      "execution_count": null,
      "outputs": [
        {
          "output_type": "execute_result",
          "data": {
            "text/plain": [
              "'happy happy happy happy happy '"
            ]
          },
          "metadata": {
            "tags": []
          },
          "execution_count": 72
        }
      ]
    },
    {
      "cell_type": "code",
      "metadata": {
        "id": "2i3mS3SGIroj",
        "outputId": "6ecfa5fe-6044-4d2d-f381-9b4e79cb3b32"
      },
      "source": [
        "s * 0"
      ],
      "execution_count": null,
      "outputs": [
        {
          "output_type": "execute_result",
          "data": {
            "text/plain": [
              "''"
            ]
          },
          "metadata": {
            "tags": []
          },
          "execution_count": 73
        }
      ]
    },
    {
      "cell_type": "markdown",
      "metadata": {
        "id": "dOSn4g2bIrol"
      },
      "source": [
        "___"
      ]
    },
    {
      "cell_type": "markdown",
      "metadata": {
        "id": "-5Xn5iXJIrol"
      },
      "source": [
        "**Comments** in this section? Sure, why not?!"
      ]
    },
    {
      "cell_type": "code",
      "metadata": {
        "id": "XCwX_tb2Irol"
      },
      "source": [
        "# You can use a hashtag to add comments to your code."
      ],
      "execution_count": null,
      "outputs": []
    },
    {
      "cell_type": "code",
      "metadata": {
        "id": "2InA3Ny_Irom",
        "outputId": "1f3d7476-38c9-441b-f853-e8d7b2bc2a8f"
      },
      "source": [
        "'''\n",
        "You can use triple quotes, single or double, \n",
        "to write multi-line comments or add docstrings\n",
        "to functions, which we'll see in the next notebook.\n",
        "'''"
      ],
      "execution_count": null,
      "outputs": [
        {
          "output_type": "execute_result",
          "data": {
            "text/plain": [
              "\"\\nYou can use triple quotes, single or double, \\nto write multi-line comments or add docstrings\\nto functions, which we'll see in the next notebook.\\n\""
            ]
          },
          "metadata": {
            "tags": []
          },
          "execution_count": 75
        }
      ]
    },
    {
      "cell_type": "markdown",
      "metadata": {
        "id": "2MXDo-eeIron"
      },
      "source": [
        "<hr style=\"border-top: 10px groove salmon; margin-top: 1px; margin-bottom: 1px\"></hr>"
      ]
    },
    {
      "cell_type": "markdown",
      "metadata": {
        "id": "iU53Sfr3Iron"
      },
      "source": [
        "### String Indexing & Slicing"
      ]
    },
    {
      "cell_type": "markdown",
      "metadata": {
        "id": "hA0U_o9JIron"
      },
      "source": [
        "**Positive String Indexing**\n",
        "\n",
        "Python assigns a number to each character in a string, starting from 0 counting up to the last character in the string. We use these numbers to access specific characters in a string or elements in other sequences like lists or tuples."
      ]
    },
    {
      "cell_type": "markdown",
      "metadata": {
        "id": "z-X9TP_OIron"
      },
      "source": [
        "![string indexing image](data:image/png;base64,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)"
      ]
    },
    {
      "cell_type": "markdown",
      "metadata": {
        "id": "R_zL-I_9Iroo"
      },
      "source": [
        "**Negative String Indexing**\n",
        "\n",
        "Python also allows us to reference characters in a string using negative indexing that assigns -1 to the last character in the string. Negative indexing is very useful when you don't know how many characters are in a string, but you want to grab the last one or two only. *We will see this same indexing system when we dive into Python lists, too.*"
      ]
    },
    {
      "cell_type": "markdown",
      "metadata": {
        "id": "O65NbqbhIroo"
      },
      "source": [
        "**The Indexing Operator (square brackets) `[]`** allow me to isolate a character in a string by passing in a number representing the index position of a specific character."
      ]
    },
    {
      "cell_type": "code",
      "metadata": {
        "id": "TxcJ5EDFIroo",
        "outputId": "ddc814c6-d8d2-42ca-f38f-a0bbce32c957"
      },
      "source": [
        "e_string"
      ],
      "execution_count": null,
      "outputs": [
        {
          "output_type": "execute_result",
          "data": {
            "text/plain": [
              "'automobile'"
            ]
          },
          "metadata": {
            "tags": []
          },
          "execution_count": 76
        }
      ]
    },
    {
      "cell_type": "code",
      "metadata": {
        "id": "H3PExv-kIrop",
        "outputId": "07137b49-530f-4f5d-cbd0-e0c7fd135aa8"
      },
      "source": [
        "# I can grab the first character in a string.\n",
        "\n",
        "e_string[0]"
      ],
      "execution_count": null,
      "outputs": [
        {
          "output_type": "execute_result",
          "data": {
            "text/plain": [
              "'a'"
            ]
          },
          "metadata": {
            "tags": []
          },
          "execution_count": 77
        }
      ]
    },
    {
      "cell_type": "code",
      "metadata": {
        "id": "8sSNA_zsIroq",
        "outputId": "9696eeab-d48f-4066-df9a-84dc1ebcb8f7"
      },
      "source": [
        "# I can grab the last character in a string.\n",
        "\n",
        "e_string[-1]"
      ],
      "execution_count": null,
      "outputs": [
        {
          "output_type": "execute_result",
          "data": {
            "text/plain": [
              "'e'"
            ]
          },
          "metadata": {
            "tags": []
          },
          "execution_count": 78
        }
      ]
    },
    {
      "cell_type": "markdown",
      "metadata": {
        "id": "55fKfrgXIros"
      },
      "source": [
        "___"
      ]
    },
    {
      "cell_type": "markdown",
      "metadata": {
        "id": "OMeQ13FFIros"
      },
      "source": [
        "**String Slicing**\n",
        "\n",
        "I can slice a string using the same bracket notation as above; slicing allows me to isolate multiple characters in a string.\n",
        "\n",
        "```python\n",
        "\n",
        "str[start (inclusive): stop (exclusive): step]\n",
        "```"
      ]
    },
    {
      "cell_type": "code",
      "metadata": {
        "id": "REhe8p2rIros",
        "outputId": "c3e7e0ad-8630-429f-853c-6834628eff67"
      },
      "source": [
        "# I can leave out the start index if I want to start from 0.\n",
        "\n",
        "e_string[:4]"
      ],
      "execution_count": null,
      "outputs": [
        {
          "output_type": "execute_result",
          "data": {
            "text/plain": [
              "'auto'"
            ]
          },
          "metadata": {
            "tags": []
          },
          "execution_count": 79
        }
      ]
    },
    {
      "cell_type": "code",
      "metadata": {
        "id": "Lm3-uQd8Irov",
        "outputId": "316ea704-c83a-4927-f5eb-50d290818349"
      },
      "source": [
        "# I can leave out the column index if I want to end at the end or -1.\n",
        "\n",
        "e_string[4:]"
      ],
      "execution_count": null,
      "outputs": [
        {
          "output_type": "execute_result",
          "data": {
            "text/plain": [
              "'mobile'"
            ]
          },
          "metadata": {
            "tags": []
          },
          "execution_count": 80
        }
      ]
    },
    {
      "cell_type": "code",
      "metadata": {
        "id": "mZZOaEL7Irow",
        "outputId": "8f2369a8-456b-44b2-a7f1-fe21bd8d872e"
      },
      "source": [
        "# I can reverse my string by passing -1 as my step argument with default start and stop.\n",
        "\n",
        "e_string[::-1]"
      ],
      "execution_count": null,
      "outputs": [
        {
          "output_type": "execute_result",
          "data": {
            "text/plain": [
              "'elibomotua'"
            ]
          },
          "metadata": {
            "tags": []
          },
          "execution_count": 81
        }
      ]
    },
    {
      "cell_type": "markdown",
      "metadata": {
        "id": "bB9t-qMYIrox"
      },
      "source": [
        "<hr style=\"border-top: 10px groove salmon; margin-top: 1px; margin-bottom: 1px\"></hr>"
      ]
    },
    {
      "cell_type": "markdown",
      "metadata": {
        "id": "CALPaSCdIroy"
      },
      "source": [
        "### Handy Keywords"
      ]
    },
    {
      "cell_type": "markdown",
      "metadata": {
        "id": "d3xFUTGxIroy"
      },
      "source": [
        "#### `in`, `not in` \n",
        "\n",
        "These are two very useful membership operators used to verify if a string contains a certain substring or character. *These will be useful with other sequence types, as well.*"
      ]
    },
    {
      "cell_type": "code",
      "metadata": {
        "id": "HaG4JnQ0Iroy"
      },
      "source": [
        "# Define variables for use below.\n",
        "\n",
        "vowels = 'aeiou'\n",
        "o_string = 'o'\n",
        "p_string = 'P'"
      ],
      "execution_count": null,
      "outputs": []
    },
    {
      "cell_type": "code",
      "metadata": {
        "id": "n2iFEW1aIroz",
        "outputId": "2cc3a859-0726-44c5-f994-31b9894ced33"
      },
      "source": [
        "# I can use the .lower() method on my string to catch any capital letters in my string.\n",
        "\n",
        "o_string.lower() in vowels"
      ],
      "execution_count": null,
      "outputs": [
        {
          "output_type": "execute_result",
          "data": {
            "text/plain": [
              "True"
            ]
          },
          "metadata": {
            "tags": []
          },
          "execution_count": 83
        }
      ]
    },
    {
      "cell_type": "code",
      "metadata": {
        "id": "qI3wjSxXIro0",
        "outputId": "4c6937da-b61c-4fca-91ae-7ae7ef9f7a32"
      },
      "source": [
        "p_string.lower() not in vowels"
      ],
      "execution_count": null,
      "outputs": [
        {
          "output_type": "execute_result",
          "data": {
            "text/plain": [
              "True"
            ]
          },
          "metadata": {
            "tags": []
          },
          "execution_count": 84
        }
      ]
    },
    {
      "cell_type": "code",
      "metadata": {
        "id": "i2tbJL4TIro2",
        "outputId": "1d65f657-6feb-43b2-ce5a-7106f7627011"
      },
      "source": [
        "# Print out the string stored in my `b_string` variable.\n",
        "\n",
        "print(b_string)"
      ],
      "execution_count": null,
      "outputs": [
        {
          "output_type": "stream",
          "text": [
            "!?I have junk at the front I don't need.\n"
          ],
          "name": "stdout"
        }
      ]
    },
    {
      "cell_type": "code",
      "metadata": {
        "id": "HSa0KLd2Iro3",
        "outputId": "7fd42fda-ad2f-4114-f340-09e9c6321e5b"
      },
      "source": [
        "'junk' in b_string"
      ],
      "execution_count": null,
      "outputs": [
        {
          "output_type": "execute_result",
          "data": {
            "text/plain": [
              "True"
            ]
          },
          "metadata": {
            "tags": []
          },
          "execution_count": 86
        }
      ]
    },
    {
      "cell_type": "markdown",
      "metadata": {
        "id": "blWAIqdqIro4"
      },
      "source": [
        "<hr style=\"border-top: 10px groove salmon; margin-top: 1px; margin-bottom: 1px\"></hr>"
      ]
    },
    {
      "cell_type": "markdown",
      "metadata": {
        "id": "wyRgnzd2Iro4"
      },
      "source": [
        "## List Operations"
      ]
    },
    {
      "cell_type": "markdown",
      "metadata": {
        "id": "MA_LVGlfIro4"
      },
      "source": [
        "<hr style=\"border-top: 10px groove salmon; margin-top: 1px; margin-bottom: 1px\"></hr>"
      ]
    },
    {
      "cell_type": "markdown",
      "metadata": {
        "id": "A0y8MMb3Iro5"
      },
      "source": [
        "<a id='lists'></a>"
      ]
    },
    {
      "cell_type": "markdown",
      "metadata": {
        "id": "_nawxHgJIro5"
      },
      "source": [
        "### List Methods\n",
        "\n",
        "Like we saw with strings above, there are many useful built-in list methods that allow us to perform all types of manipulations on our list objects. We will look at a few very common methods below, but you can find many more [here](http://www.python-ds.com/python-3-list-methods)."
      ]
    },
    {
      "cell_type": "code",
      "metadata": {
        "id": "DgRlUBQaIro5"
      },
      "source": [
        "# I create my exmple list by surrounding a sequence of elements with square brackets.\n",
        "\n",
        "color_list_original = ['red', 'yellow', 'violet', 'salmon']"
      ],
      "execution_count": null,
      "outputs": []
    },
    {
      "cell_type": "code",
      "metadata": {
        "id": "nIBolS4xIro6",
        "outputId": "2726732f-36ba-4dfd-c8d4-163f08022e9f"
      },
      "source": [
        "# I can also use the `list()` constructor to create a list from another type of sequence.\n",
        "\n",
        "clothes = ('shirt', 'pants', 'skirt', 'socks')\n",
        "type(clothes)"
      ],
      "execution_count": null,
      "outputs": [
        {
          "output_type": "execute_result",
          "data": {
            "text/plain": [
              "tuple"
            ]
          },
          "metadata": {
            "tags": []
          },
          "execution_count": 88
        }
      ]
    },
    {
      "cell_type": "code",
      "metadata": {
        "id": "VAhRtAXgIro7",
        "outputId": "2d4afe62-0e1b-4ae5-a2e1-9629c502d8ea"
      },
      "source": [
        "clothes_list_original = list(clothes)\n",
        "type(clothes_list_original)"
      ],
      "execution_count": null,
      "outputs": [
        {
          "output_type": "execute_result",
          "data": {
            "text/plain": [
              "list"
            ]
          },
          "metadata": {
            "tags": []
          },
          "execution_count": 89
        }
      ]
    },
    {
      "cell_type": "markdown",
      "metadata": {
        "id": "HY-HABc4Iro8"
      },
      "source": [
        "I can use the `.copy()` method to create a copy of my sequence if I want to keep my original list intact because many of the list methods below perform in-place operations; this means they mutate my original list."
      ]
    },
    {
      "cell_type": "code",
      "metadata": {
        "id": "Svj9I7fDIro8"
      },
      "source": [
        "color_list = color_list_original.copy()\n",
        "clothes_list = clothes_list_original.copy()"
      ],
      "execution_count": null,
      "outputs": []
    },
    {
      "cell_type": "markdown",
      "metadata": {
        "id": "tEsQ0aWCIro9"
      },
      "source": [
        "___"
      ]
    },
    {
      "cell_type": "markdown",
      "metadata": {
        "id": "wTNnJD1MIro9"
      },
      "source": [
        "#### `.append()`, `.extend()`\n",
        "\n",
        "I can add an item to the end of an existing list, and I can add a list to another list by joining them together respectively. *These manipulations will mutate or change my original list.*\n",
        "```python\n",
        "list.append(element)\n",
        "\n",
        "list.extend(iterable)\n",
        "```"
      ]
    },
    {
      "cell_type": "code",
      "metadata": {
        "id": "fTrjRxbRIro9"
      },
      "source": [
        "# I can add an item, shoes, to my clothes_list.\n",
        "\n",
        "clothes_list.append('shoes')"
      ],
      "execution_count": null,
      "outputs": []
    },
    {
      "cell_type": "code",
      "metadata": {
        "id": "y--lyfQsIro-",
        "outputId": "b68734ee-a5db-44b6-c13d-86672f265756"
      },
      "source": [
        "# My original clothes_list now contains the appended item, shoes.\n",
        "\n",
        "clothes_list"
      ],
      "execution_count": null,
      "outputs": [
        {
          "output_type": "execute_result",
          "data": {
            "text/plain": [
              "['shirt', 'pants', 'skirt', 'socks', 'shoes']"
            ]
          },
          "metadata": {
            "tags": []
          },
          "execution_count": 92
        }
      ]
    },
    {
      "cell_type": "code",
      "metadata": {
        "id": "mLbDWqtBIrpB"
      },
      "source": [
        "color_list2 = ['indigo', 'orange']"
      ],
      "execution_count": null,
      "outputs": []
    },
    {
      "cell_type": "code",
      "metadata": {
        "id": "IbsU-FYzIrpC"
      },
      "source": [
        "# I can add the items in color_list2 to my original color_list.\n",
        "\n",
        "color_list.extend(color_list2)"
      ],
      "execution_count": null,
      "outputs": []
    },
    {
      "cell_type": "code",
      "metadata": {
        "id": "gLGXQTWGIrpD",
        "outputId": "52e2f1c6-9040-4abe-83ba-0007edff5e2d"
      },
      "source": [
        "color_list"
      ],
      "execution_count": null,
      "outputs": [
        {
          "output_type": "execute_result",
          "data": {
            "text/plain": [
              "['red', 'yellow', 'violet', 'salmon', 'indigo', 'orange']"
            ]
          },
          "metadata": {
            "tags": []
          },
          "execution_count": 95
        }
      ]
    },
    {
      "cell_type": "code",
      "metadata": {
        "id": "_3rLsxXoIrpE"
      },
      "source": [
        "# If I tried to use .append() to add my two lists together, this would happen...\n",
        "\n",
        "clothes_list.append(color_list2)"
      ],
      "execution_count": null,
      "outputs": []
    },
    {
      "cell_type": "code",
      "metadata": {
        "id": "r1SBFXxiIrpF",
        "outputId": "c91b9480-6f29-496d-d115-63a23a21ba21"
      },
      "source": [
        "# I get a nested list object. If you don't want this, use .extend().\n",
        "\n",
        "clothes_list"
      ],
      "execution_count": null,
      "outputs": [
        {
          "output_type": "execute_result",
          "data": {
            "text/plain": [
              "['shirt', 'pants', 'skirt', 'socks', 'shoes', ['indigo', 'orange']]"
            ]
          },
          "metadata": {
            "tags": []
          },
          "execution_count": 97
        }
      ]
    },
    {
      "cell_type": "code",
      "metadata": {
        "id": "AKkS7RJMIrpG"
      },
      "source": [
        "# Redefine lists to use in examples.\n",
        "\n",
        "color_list = color_list_original.copy()\n",
        "clothes_list = clothes_list_original.copy()"
      ],
      "execution_count": null,
      "outputs": []
    },
    {
      "cell_type": "code",
      "metadata": {
        "id": "kmkBBH4dIrpG",
        "outputId": "dc43b500-07fc-49ce-8775-1a8efc493faf"
      },
      "source": [
        "# I can also add two lists using the + operator and assign my new list to a variable.\n",
        "\n",
        "new_list = color_list + clothes_list\n",
        "new_list"
      ],
      "execution_count": null,
      "outputs": [
        {
          "output_type": "execute_result",
          "data": {
            "text/plain": [
              "['red', 'yellow', 'violet', 'salmon', 'shirt', 'pants', 'skirt', 'socks']"
            ]
          },
          "metadata": {
            "tags": []
          },
          "execution_count": 99
        }
      ]
    },
    {
      "cell_type": "markdown",
      "metadata": {
        "id": "RBKDn4ApIrpH"
      },
      "source": [
        "___"
      ]
    },
    {
      "cell_type": "markdown",
      "metadata": {
        "id": "xAROvl8fIrpH"
      },
      "source": [
        "#### `.insert()`, `.remove()`, `.pop()`\n",
        "\n",
        "I can add an item to a list at a given position, remove the first item from my list that matches my specified value, and remove an item at a specific position from my list and return the item respectively. *These manipulations will mutate or change my original list.*\n",
        "```python\n",
        "# I can insert an element into an existing list at a specified index position.\n",
        "\n",
        "list.insert(index_position, element)\n",
        "\n",
        "# I can remove the first occurrence of an element in a list.\n",
        "\n",
        "list.remove(element)\n",
        "\n",
        "# I can remove an element at a specified index position from a list and return that element.\n",
        "\n",
        "list.pop(index_position)\n",
        "```"
      ]
    },
    {
      "cell_type": "code",
      "metadata": {
        "id": "C9abGcsMIrpH"
      },
      "source": [
        "# Redefine lists to use in examples.\n",
        "\n",
        "color_list = color_list_original.copy()\n",
        "clothes_list = clothes_list_original.copy()"
      ],
      "execution_count": null,
      "outputs": []
    },
    {
      "cell_type": "code",
      "metadata": {
        "id": "q8DreswEIrpI"
      },
      "source": [
        "# I pass the index of the element before which I want to insert my new element, 'aqua'.\n",
        "\n",
        "color_list.insert(0, 'aqua')"
      ],
      "execution_count": null,
      "outputs": []
    },
    {
      "cell_type": "code",
      "metadata": {
        "id": "LQ2zZF-IIrpJ",
        "outputId": "092a2fd5-25fd-4fed-8aaa-f3553c7245b5"
      },
      "source": [
        "# Now aqua is the first element in my list. If I used .append(), it would be the last.\n",
        "\n",
        "color_list"
      ],
      "execution_count": null,
      "outputs": [
        {
          "output_type": "execute_result",
          "data": {
            "text/plain": [
              "['aqua', 'red', 'yellow', 'violet', 'salmon']"
            ]
          },
          "metadata": {
            "tags": []
          },
          "execution_count": 102
        }
      ]
    },
    {
      "cell_type": "code",
      "metadata": {
        "id": "B1lOJFUxIrpK",
        "outputId": "368bec06-35d9-4a9b-8465-ac414f62425e"
      },
      "source": [
        "# I will remove the item 'yellow' from my color_list\n",
        "\n",
        "color_list.remove('yellow')\n",
        "color_list"
      ],
      "execution_count": null,
      "outputs": [
        {
          "output_type": "execute_result",
          "data": {
            "text/plain": [
              "['aqua', 'red', 'violet', 'salmon']"
            ]
          },
          "metadata": {
            "tags": []
          },
          "execution_count": 103
        }
      ]
    },
    {
      "cell_type": "code",
      "metadata": {
        "id": "TK0wLToCIrpL",
        "outputId": "56272ae2-fc38-499c-e993-92acb76523c6"
      },
      "source": [
        "# I will remove and return the second item in my list, index 1, `red`.\n",
        "\n",
        "color_list.pop(1)"
      ],
      "execution_count": null,
      "outputs": [
        {
          "output_type": "execute_result",
          "data": {
            "text/plain": [
              "'red'"
            ]
          },
          "metadata": {
            "tags": []
          },
          "execution_count": 104
        }
      ]
    },
    {
      "cell_type": "code",
      "metadata": {
        "id": "GNL8M0jmIrpN",
        "outputId": "a6ffbcee-aeaf-4ead-83d6-fcb6b3e2fe95"
      },
      "source": [
        "# Notice after I pop 'red', it is removed from my original list as well; it removes and returns the element.\n",
        "\n",
        "color_list"
      ],
      "execution_count": null,
      "outputs": [
        {
          "output_type": "execute_result",
          "data": {
            "text/plain": [
              "['aqua', 'violet', 'salmon']"
            ]
          },
          "metadata": {
            "tags": []
          },
          "execution_count": 105
        }
      ]
    },
    {
      "cell_type": "markdown",
      "metadata": {
        "id": "FAsKjTfpIrpN"
      },
      "source": [
        "___"
      ]
    },
    {
      "cell_type": "markdown",
      "metadata": {
        "id": "pKGgLQVHIrpO"
      },
      "source": [
        "#### `.reverse()`, `.sort()`\n",
        "\n",
        "I can reverse the elements in my list or sort the elements alphabetically.\n",
        "```python\n",
        "# I can perform a simple reverse of order on my original list.\n",
        "\n",
        "list.reverse()\n",
        "\n",
        "# I can sort my list in ascending/alphabetical order by default, passing no arguments to .sort(), or I can pass arguments for the reverse and key parameters to do way more complex sorts.\n",
        "\n",
        "list.sort(reverse=True|False, key=function)\n",
        "```"
      ]
    },
    {
      "cell_type": "code",
      "metadata": {
        "id": "PxYjC56-IrpO"
      },
      "source": [
        "# Redefine lists to use in examples.\n",
        "\n",
        "color_list = color_list_original.copy()\n",
        "clothes_list = clothes_list_original.copy()"
      ],
      "execution_count": null,
      "outputs": []
    },
    {
      "cell_type": "code",
      "metadata": {
        "id": "xU1vypfyIrpO",
        "outputId": "f7cc2123-d68e-4aa8-b468-842ed875e847"
      },
      "source": [
        "# I can reverse the elements in my original list.\n",
        "\n",
        "color_list.reverse()\n",
        "color_list"
      ],
      "execution_count": null,
      "outputs": [
        {
          "output_type": "execute_result",
          "data": {
            "text/plain": [
              "['salmon', 'violet', 'yellow', 'red']"
            ]
          },
          "metadata": {
            "tags": []
          },
          "execution_count": 107
        }
      ]
    },
    {
      "cell_type": "code",
      "metadata": {
        "id": "UDDmT7KlIrpP",
        "outputId": "316afce7-738b-4bf0-bb30-6255a791cfe2"
      },
      "source": [
        "# I can sort the elements in my original list alphabetically by default.\n",
        "\n",
        "clothes_list.sort()\n",
        "clothes_list"
      ],
      "execution_count": null,
      "outputs": [
        {
          "output_type": "execute_result",
          "data": {
            "text/plain": [
              "['pants', 'shirt', 'skirt', 'socks']"
            ]
          },
          "metadata": {
            "tags": []
          },
          "execution_count": 108
        }
      ]
    },
    {
      "cell_type": "code",
      "metadata": {
        "id": "d5t1wuEQIrpQ",
        "outputId": "c3ccb432-ef29-4034-bb1f-888d70a706b9"
      },
      "source": [
        "# I can sort in reverse alphabetical order, too!\n",
        "\n",
        "clothes_list.sort(reverse=True)\n",
        "clothes_list"
      ],
      "execution_count": null,
      "outputs": [
        {
          "output_type": "execute_result",
          "data": {
            "text/plain": [
              "['socks', 'skirt', 'shirt', 'pants']"
            ]
          },
          "metadata": {
            "tags": []
          },
          "execution_count": 109
        }
      ]
    },
    {
      "cell_type": "code",
      "metadata": {
        "id": "gQ2FqpnBIrpR",
        "outputId": "bc94bdee-6bfe-4d84-bf42-cb02263d5be6"
      },
      "source": [
        "# I can pass a function, built-in or created, as a sorting key or criteria. Here I sort by string length!\n",
        "\n",
        "color_list.sort(key=len)\n",
        "color_list"
      ],
      "execution_count": null,
      "outputs": [
        {
          "output_type": "execute_result",
          "data": {
            "text/plain": [
              "['red', 'salmon', 'violet', 'yellow']"
            ]
          },
          "metadata": {
            "tags": []
          },
          "execution_count": 110
        }
      ]
    },
    {
      "cell_type": "markdown",
      "metadata": {
        "id": "Pj-A-Kl9IrpS"
      },
      "source": [
        "___"
      ]
    },
    {
      "cell_type": "markdown",
      "metadata": {
        "id": "3Tj97KdKIrpS"
      },
      "source": [
        "### List Indexing & Slicing\n",
        "\n",
        "Once you understand positive and negative string indexing and slicing, you understand positive and negative list indexing. The difference is that the index number represents an element in your list (or tuple) instead of a character in your string.\n",
        "\n",
        "![List Indexing Image](https://railsware.com/blog/wp-content/uploads/2018/10/first-slice.png)"
      ]
    },
    {
      "cell_type": "code",
      "metadata": {
        "id": "axZYgGMzIrpS",
        "outputId": "f932f567-f3b0-40de-dfea-8bd792959ad8"
      },
      "source": [
        "color_list = color_list_original.copy()\n",
        "color_list"
      ],
      "execution_count": null,
      "outputs": [
        {
          "output_type": "execute_result",
          "data": {
            "text/plain": [
              "['red', 'yellow', 'violet', 'salmon']"
            ]
          },
          "metadata": {
            "tags": []
          },
          "execution_count": 111
        }
      ]
    },
    {
      "cell_type": "code",
      "metadata": {
        "id": "vCY0nIr2IrpU",
        "outputId": "220a5f29-757a-41ee-a115-415a6eafd732"
      },
      "source": [
        "# The default start is 0 and stop is exclusive, just like slicing strings.\n",
        "\n",
        "color_list[:4]"
      ],
      "execution_count": null,
      "outputs": [
        {
          "output_type": "execute_result",
          "data": {
            "text/plain": [
              "['red', 'yellow', 'violet', 'salmon']"
            ]
          },
          "metadata": {
            "tags": []
          },
          "execution_count": 112
        }
      ]
    },
    {
      "cell_type": "code",
      "metadata": {
        "id": "04xaXaWwIrpV",
        "outputId": "81ce8bc1-172a-41d3-af3f-e8e6fc8361df"
      },
      "source": [
        "# I can use indexing to reverse my list by selecting all elements ([::]) and passing a step of -1.\n",
        "\n",
        "color_list[::-1]"
      ],
      "execution_count": null,
      "outputs": [
        {
          "output_type": "execute_result",
          "data": {
            "text/plain": [
              "['salmon', 'violet', 'yellow', 'red']"
            ]
          },
          "metadata": {
            "tags": []
          },
          "execution_count": 113
        }
      ]
    },
    {
      "cell_type": "code",
      "metadata": {
        "id": "FSx_44maIrpX",
        "outputId": "4fc3b091-f1ac-4f9f-8efb-f996f48820af"
      },
      "source": [
        "# I can access values in a nested list, too.\n",
        "\n",
        "nested_list = ['this', 'is', 'the', 'outer', 'list', ['and', 'inner', 'one']]\n",
        "nested_list"
      ],
      "execution_count": null,
      "outputs": [
        {
          "output_type": "execute_result",
          "data": {
            "text/plain": [
              "['this', 'is', 'the', 'outer', 'list', ['and', 'inner', 'one']]"
            ]
          },
          "metadata": {
            "tags": []
          },
          "execution_count": 114
        }
      ]
    },
    {
      "cell_type": "code",
      "metadata": {
        "id": "aYbvGSAsIrpY",
        "outputId": "f0e74a0a-4a54-4f39-d932-7b7fda46d45c"
      },
      "source": [
        "# The 5th element in my list is a list, and I can grab elements from that list using the second [].\n",
        "\n",
        "nested_list[5][1]"
      ],
      "execution_count": null,
      "outputs": [
        {
          "output_type": "execute_result",
          "data": {
            "text/plain": [
              "'inner'"
            ]
          },
          "metadata": {
            "tags": []
          },
          "execution_count": 115
        }
      ]
    },
    {
      "cell_type": "markdown",
      "metadata": {
        "id": "N6Ts5b52IrpZ"
      },
      "source": [
        "<hr style=\"border-top: 10px groove salmon; margin-top: 1px; margin-bottom: 1px\"></hr>"
      ]
    },
    {
      "cell_type": "markdown",
      "metadata": {
        "id": "HGkuuGzFIrpa"
      },
      "source": [
        "## Dictionary Operations"
      ]
    },
    {
      "cell_type": "markdown",
      "metadata": {
        "id": "U8sf5fbaIrpa"
      },
      "source": [
        "<hr style=\"border-top: 10px groove salmon; margin-top: 1px; margin-bottom: 1px\"></hr>"
      ]
    },
    {
      "cell_type": "markdown",
      "metadata": {
        "id": "h6m0-Jw0Irpa"
      },
      "source": [
        "<a id='dictionaries'></a>"
      ]
    },
    {
      "cell_type": "markdown",
      "metadata": {
        "id": "-ZW77emfIrpa"
      },
      "source": [
        "### Dictionary Methods\n",
        "\n",
        "Again, dictionaries also have many useful built-in methods that allow us to perform all types of manipulations on our dictionary objects. We will look at a few very common methods below, but you can find more [here](https://www.w3schools.com/python/python_ref_dictionary.asp).\n",
        "\n",
        "![Dictionary Image](data:image/jpeg;base64,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)"
      ]
    },
    {
      "cell_type": "code",
      "metadata": {
        "id": "G3zLqbQkIrpa"
      },
      "source": [
        "# Define my example dictionary\n",
        "\n",
        "day_dict = {'weekday': 'Thursday', 'day': 20, 'month': 'October', 'year': 2020}"
      ],
      "execution_count": null,
      "outputs": []
    },
    {
      "cell_type": "markdown",
      "metadata": {
        "id": "vO4YN-XfIrpc"
      },
      "source": [
        "___"
      ]
    },
    {
      "cell_type": "markdown",
      "metadata": {
        "id": "Jr2o3jNSIrpc"
      },
      "source": [
        "#### `.keys()`, `.values()`, `.items()`\n",
        "\n",
        "I can return a list of keys, values, or items (key/value pairs) from my dictionary object."
      ]
    },
    {
      "cell_type": "code",
      "metadata": {
        "id": "npNXjJP2Irpc",
        "outputId": "1a20a292-24fe-4e9f-8bc4-daf065e2eb73"
      },
      "source": [
        "day_dict.keys()"
      ],
      "execution_count": null,
      "outputs": [
        {
          "output_type": "execute_result",
          "data": {
            "text/plain": [
              "dict_keys(['weekday', 'day', 'month', 'year'])"
            ]
          },
          "metadata": {
            "tags": []
          },
          "execution_count": 117
        }
      ]
    },
    {
      "cell_type": "code",
      "metadata": {
        "id": "HQvlDQWlIrpd",
        "outputId": "0f4d0d1b-1f85-42c7-cf78-f4ee818cc576"
      },
      "source": [
        "day_dict.values()"
      ],
      "execution_count": null,
      "outputs": [
        {
          "output_type": "execute_result",
          "data": {
            "text/plain": [
              "dict_values(['Thursday', 20, 'October', 2020])"
            ]
          },
          "metadata": {
            "tags": []
          },
          "execution_count": 118
        }
      ]
    },
    {
      "cell_type": "code",
      "metadata": {
        "id": "bF4WDzX6Irpf",
        "outputId": "c72c0676-4b54-471c-a25f-a443b3930482"
      },
      "source": [
        "day_dict.items()"
      ],
      "execution_count": null,
      "outputs": [
        {
          "output_type": "execute_result",
          "data": {
            "text/plain": [
              "dict_items([('weekday', 'Thursday'), ('day', 20), ('month', 'October'), ('year', 2020)])"
            ]
          },
          "metadata": {
            "tags": []
          },
          "execution_count": 119
        }
      ]
    },
    {
      "cell_type": "markdown",
      "metadata": {
        "id": "yfT5cDLnIrpg"
      },
      "source": [
        "I can create a dictionary from two lists using an awesome function called `zip()`. *This is just a preview of zip; we'll see more in zip and other cool python functions in a future notebook.*"
      ]
    },
    {
      "cell_type": "code",
      "metadata": {
        "id": "6XsA8jM5Irpg"
      },
      "source": [
        "# Define the lists I want to be keys and values in my dictionary.\n",
        "\n",
        "key_list = ['name', 'sign', 'age']\n",
        "value_list = ['Betty', 'Aquarius', 1]"
      ],
      "execution_count": null,
      "outputs": []
    },
    {
      "cell_type": "code",
      "metadata": {
        "id": "Z3nl44XLIrph",
        "outputId": "b96ba0f0-ba33-443b-9de5-e7e70c0a231c"
      },
      "source": [
        "fam_dict = dict(zip(key_list, value_list))\n",
        "fam_dict"
      ],
      "execution_count": null,
      "outputs": [
        {
          "output_type": "execute_result",
          "data": {
            "text/plain": [
              "{'name': 'Betty', 'sign': 'Aquarius', 'age': 1}"
            ]
          },
          "metadata": {
            "tags": []
          },
          "execution_count": 121
        }
      ]
    },
    {
      "cell_type": "markdown",
      "metadata": {
        "id": "akCT2O4FIrpi"
      },
      "source": [
        "___"
      ]
    },
    {
      "cell_type": "markdown",
      "metadata": {
        "id": "_Y1VLAN6Irpi"
      },
      "source": [
        "### Dictionary Indexing\n",
        "\n",
        "I can access a value in my dictionary by passing the key into the indexing operator `[]`."
      ]
    },
    {
      "cell_type": "code",
      "metadata": {
        "id": "SUE7LLSbIrpi",
        "outputId": "25fd1aa4-a3e9-4590-c87b-2b39d57b333c"
      },
      "source": [
        "fam_dict"
      ],
      "execution_count": null,
      "outputs": [
        {
          "output_type": "execute_result",
          "data": {
            "text/plain": [
              "{'name': 'Betty', 'sign': 'Aquarius', 'age': 1}"
            ]
          },
          "metadata": {
            "tags": []
          },
          "execution_count": 122
        }
      ]
    },
    {
      "cell_type": "code",
      "metadata": {
        "id": "1MapQkIqIrpk",
        "outputId": "7c5a5377-5ddd-48fb-b680-85dc48eca7e1"
      },
      "source": [
        "fam_dict['name']"
      ],
      "execution_count": null,
      "outputs": [
        {
          "output_type": "execute_result",
          "data": {
            "text/plain": [
              "'Betty'"
            ]
          },
          "metadata": {
            "tags": []
          },
          "execution_count": 123
        }
      ]
    },
    {
      "cell_type": "markdown",
      "metadata": {
        "id": "pM0A0Wu-Irpl"
      },
      "source": [
        "I can loop through my dictionary using the `.keys()`, `.values()`, and `.items()` methods. (More on loops in a future notebook.)"
      ]
    },
    {
      "cell_type": "code",
      "metadata": {
        "id": "lpJAQssWIrpl",
        "outputId": "2350dc32-a334-4b6c-9b99-7a187ded0295"
      },
      "source": [
        "# Print each key in my dictionary.\n",
        "\n",
        "for key in fam_dict.keys():\n",
        "    print(key)"
      ],
      "execution_count": null,
      "outputs": [
        {
          "output_type": "stream",
          "text": [
            "name\n",
            "sign\n",
            "age\n"
          ],
          "name": "stdout"
        }
      ]
    },
    {
      "cell_type": "code",
      "metadata": {
        "id": "O0LTl9d8Irpm",
        "outputId": "64df5f9c-5e24-46d4-d288-28281d226fc6"
      },
      "source": [
        "# Print each value in my dictionary.\n",
        "\n",
        "for value in fam_dict.values():\n",
        "    print(value)"
      ],
      "execution_count": null,
      "outputs": [
        {
          "output_type": "stream",
          "text": [
            "Betty\n",
            "Aquarius\n",
            "1\n"
          ],
          "name": "stdout"
        }
      ]
    },
    {
      "cell_type": "code",
      "metadata": {
        "id": "aDytOBmxIrpm",
        "outputId": "e8caf3f2-8f69-48d1-da66-a69633d646da"
      },
      "source": [
        "# Print each item in my dictionary as a tuple.\n",
        "\n",
        "for item in fam_dict.items():\n",
        "    print(item)"
      ],
      "execution_count": null,
      "outputs": [
        {
          "output_type": "stream",
          "text": [
            "('name', 'Betty')\n",
            "('sign', 'Aquarius')\n",
            "('age', 1)\n"
          ],
          "name": "stdout"
        }
      ]
    },
    {
      "cell_type": "markdown",
      "metadata": {
        "id": "UbQ8_6r8Irpo"
      },
      "source": [
        "<hr style=\"border-top: 10px groove salmon; margin-top: 1px; margin-bottom: 1px\"></hr>"
      ]
    },
    {
      "cell_type": "markdown",
      "metadata": {
        "id": "NtQPU8vxIrpo"
      },
      "source": [
        "## Mixed Sequence Structures"
      ]
    },
    {
      "cell_type": "markdown",
      "metadata": {
        "id": "kjIpcU9XIrpo"
      },
      "source": [
        "<hr style=\"border-top: 10px groove salmon; margin-top: 1px; margin-bottom: 1px\"></hr>"
      ]
    },
    {
      "cell_type": "markdown",
      "metadata": {
        "id": "SLvJe6B6Irpo"
      },
      "source": [
        "I can dig into more complicated structures using indexing, as well. I have to be sure I use the appropriate indexing for each sequence. I'll demonstrate below:"
      ]
    },
    {
      "cell_type": "code",
      "metadata": {
        "id": "mm8vqBjEIrpo",
        "outputId": "22edc3af-4169-4c60-8d48-a79c6ce8e53b"
      },
      "source": [
        "# Create a list of four dictionaries.\n",
        "\n",
        "fam_list = [{'name': 'Milla', 'sign': 'Virgo', 'age': 15},\n",
        "            {'name': 'Birdie', 'sign': 'Gemini', 'age': 1},\n",
        "            {'name': 'Starbuck', 'sign': 'Aries', 'age': 5},\n",
        "            {'name': 'Faith', 'sign': 'Aquarius', 'age': 100}]\n",
        "\n",
        "fam_list"
      ],
      "execution_count": null,
      "outputs": [
        {
          "output_type": "execute_result",
          "data": {
            "text/plain": [
              "[{'name': 'Milla', 'sign': 'Virgo', 'age': 15},\n",
              " {'name': 'Birdie', 'sign': 'Gemini', 'age': 1},\n",
              " {'name': 'Starbuck', 'sign': 'Aries', 'age': 5},\n",
              " {'name': 'Faith', 'sign': 'Aquarius', 'age': 100}]"
            ]
          },
          "metadata": {
            "tags": []
          },
          "execution_count": 127
        }
      ]
    },
    {
      "cell_type": "code",
      "metadata": {
        "id": "xkjikPUNIrpp",
        "outputId": "54f2dea1-17b3-4f97-9b6d-78b41c6e601a"
      },
      "source": [
        "# Verifying the data type is a list.\n",
        "\n",
        "print(type(fam_list))"
      ],
      "execution_count": null,
      "outputs": [
        {
          "output_type": "stream",
          "text": [
            "<class 'list'>\n"
          ],
          "name": "stdout"
        }
      ]
    },
    {
      "cell_type": "markdown",
      "metadata": {
        "id": "h_i5CybuIrpq"
      },
      "source": [
        "Since this is a list, recall that I pass an integer representing an index position to the indexing operator like below. *Revisit list indexing and slicing [here](#lists).*\n",
        "```python\n",
        "list[0]\n",
        "```\n",
        "I can also slice my list to return segments of the sequence like this:\n",
        "```python\n",
        "list[:2]\n",
        "```"
      ]
    },
    {
      "cell_type": "code",
      "metadata": {
        "id": "oqlqx6AmIrpq",
        "outputId": "a65d8ed1-8505-40ca-a4db-ff9c85db0462"
      },
      "source": [
        "# This returns the first element in my list, which happens to be a dictionary.\n",
        "\n",
        "fam_list[0]"
      ],
      "execution_count": null,
      "outputs": [
        {
          "output_type": "execute_result",
          "data": {
            "text/plain": [
              "{'name': 'Milla', 'sign': 'Virgo', 'age': 15}"
            ]
          },
          "metadata": {
            "tags": []
          },
          "execution_count": 129
        }
      ]
    },
    {
      "cell_type": "code",
      "metadata": {
        "id": "TEpNr1tNIrpr",
        "outputId": "c39775dd-8873-4933-bfa7-0c856aafa41c"
      },
      "source": [
        "# This slice returns the first two elements in my list, which happen to be dictionaries.\n",
        "\n",
        "fam_list[:2]"
      ],
      "execution_count": null,
      "outputs": [
        {
          "output_type": "execute_result",
          "data": {
            "text/plain": [
              "[{'name': 'Milla', 'sign': 'Virgo', 'age': 15},\n",
              " {'name': 'Birdie', 'sign': 'Gemini', 'age': 1}]"
            ]
          },
          "metadata": {
            "tags": []
          },
          "execution_count": 130
        }
      ]
    },
    {
      "cell_type": "markdown",
      "metadata": {
        "id": "5Y0hFS2zIrps"
      },
      "source": [
        "___"
      ]
    },
    {
      "cell_type": "markdown",
      "metadata": {
        "id": "9xcJ5Hu-Irps"
      },
      "source": [
        "**What if I want to dig into the dictionaries in the list?** I can do this by indexing into the list with the appropriate syntax and then the dictionary with the appropriate syntax. \n",
        "\n",
        "Below I pass an iteger to the indexing operator to return the first element in my list. Since the first element in my list is a dictionary, I pass a key to the indexing operator to return the value that is paired with that key in the dictionary. *Revisit dictionary indexing [here](#dictionaries).*"
      ]
    },
    {
      "cell_type": "code",
      "metadata": {
        "id": "es6ph0inIrps",
        "outputId": "f1829564-6da9-47ce-9057-2ec51ea93ab8"
      },
      "source": [
        "# I return the first dictionary in my list and the value for the name key in my dictionary.\n",
        "\n",
        "fam_list[0]['name']"
      ],
      "execution_count": null,
      "outputs": [
        {
          "output_type": "execute_result",
          "data": {
            "text/plain": [
              "'Milla'"
            ]
          },
          "metadata": {
            "tags": []
          },
          "execution_count": 131
        }
      ]
    },
    {
      "cell_type": "code",
      "metadata": {
        "id": "uqpph3bXIrpt",
        "outputId": "6dfebd1d-0e52-47b5-83fe-5fb806d3eab4"
      },
      "source": [
        "# I can return the value for the name key for each dictionary in my list like this:\n",
        "\n",
        "for element in fam_list:\n",
        "    print(element['name'])"
      ],
      "execution_count": null,
      "outputs": [
        {
          "output_type": "stream",
          "text": [
            "Milla\n",
            "Birdie\n",
            "Starbuck\n",
            "Faith\n"
          ],
          "name": "stdout"
        }
      ]
    },
    {
      "cell_type": "markdown",
      "metadata": {
        "id": "Ml3tAVygIrpu"
      },
      "source": [
        "I can return the name of the oldest person/animal in my dictionary. This code utilizes for loops and an if statement to find the dictionary with the highest value for age and then print values from that dictionary. This is one way to get the values I want, but as will often be the case, there are many ways to accomplish my goal. I'll revisit this goal in a future notebook and explore other ways of getting this information."
      ]
    },
    {
      "cell_type": "code",
      "metadata": {
        "id": "B7K5UTVAIrpu",
        "outputId": "2c15140e-cfa6-4a6e-d8d7-5e74ace9dc7d"
      },
      "source": [
        "# I iterate through my list adding the age from each dictionary to a new list, `ages`.\n",
        "\n",
        "for element in fam_list:\n",
        "    ages = []\n",
        "    ages.append(element['age'])\n",
        "\n",
        "# I use the max() function to return the max age in `ages` and assign that integer to `max_age`.\n",
        "\n",
        "max_age = max(ages)\n",
        "\n",
        "# I iterate through my list again and print different values if the age value matches `max_age`.\n",
        "\n",
        "for element in fam_list:\n",
        "    if element['age'] == max_age:\n",
        "        print(f\"The oldest person in the list is {element['name']}.\")\n",
        "        print(f\"Her sign is {element['sign']}.\")"
      ],
      "execution_count": null,
      "outputs": [
        {
          "output_type": "stream",
          "text": [
            "The oldest person in the list is Faith.\n",
            "Her sign is Aquarius.\n"
          ],
          "name": "stdout"
        }
      ]
    }
  ]
}